{
 "cells": [
  {
   "cell_type": "markdown",
   "id": "be38becd",
   "metadata": {},
   "source": [
    "Collect dataframes from all participants and analyse"
   ]
  },
  {
   "cell_type": "code",
   "execution_count": 1,
   "id": "80cdc793",
   "metadata": {},
   "outputs": [],
   "source": [
    "import os\n",
    "import glob\n",
    "import numpy as np\n",
    "import pandas as pd\n",
    "import matplotlib.pyplot as plt\n",
    "import seaborn as sns\n",
    "from sklearn.manifold import TSNE"
   ]
  },
  {
   "cell_type": "code",
   "execution_count": 2,
   "id": "0bd2f248",
   "metadata": {},
   "outputs": [],
   "source": [
    "in_directory = './dataframes/'"
   ]
  },
  {
   "cell_type": "code",
   "execution_count": 3,
   "id": "5ab27995",
   "metadata": {},
   "outputs": [
    {
     "name": "stdout",
     "output_type": "stream",
     "text": [
      " Volume in Laufwerk C: hat keine Bezeichnung.\n",
      " Volumeseriennummer: F6A3-E2E2\n",
      "\n",
      " Verzeichnis von C:\\Users\\Jannis\\SeminarSprechstile\\dataframes\n",
      "\n",
      "13.07.2021  14:39    <DIR>          .\n",
      "13.07.2021  14:39    <DIR>          ..\n",
      "29.06.2021  13:04            14.390 anghelescu_df.pkl\n",
      "29.06.2021  13:39            17.704 burkhardt_df.pkl\n",
      "06.07.2021  12:32            13.674 conle_df.pkl\n",
      "29.06.2021  13:28            13.046 df_haubenreiser.pkl\n",
      "29.06.2021  13:46            13.836 fleschner_df.pkl\n",
      "12.07.2021  09:58            11.344 junack_df.pkl\n",
      "12.07.2021  10:05            14.013 mettig_df.pkl\n",
      "29.06.2021  13:05            12.461 mueller_df.pkl\n",
      "29.06.2021  13:05            15.588 nellesen_df.pkl\n",
      "06.07.2021  13:38            12.992 puder_df.pkl\n",
      "29.06.2021  13:28            16.095 wannenmacher_df.pkl\n",
      "29.06.2021  13:05            14.011 wegner_df.pkl\n",
      "29.06.2021  13:04            13.417 wendel_df.pkl\n",
      "              13 Datei(en),        182.571 Bytes\n",
      "               2 Verzeichnis(se), 315.600.134.144 Bytes frei\n"
     ]
    }
   ],
   "source": [
    "!dir .\\dataframes\\"
   ]
  },
  {
   "cell_type": "code",
   "execution_count": 4,
   "id": "1e90f1b8",
   "metadata": {
    "scrolled": true
   },
   "outputs": [],
   "source": [
    "if not os.path.isfile('all_participants_data.pkl'):\n",
    "    df = pd.DataFrame()\n",
    "    for file in glob.glob(in_directory+'*.pkl'):\n",
    "        print(file)\n",
    "        df_tmp = pd.read_pickle(file)\n",
    "        df = df.append(df_tmp)\n",
    "    df.to_pickle('all_participants_data.pkl')\n",
    "else:\n",
    "    df = pd.read_pickle('all_participants_data.pkl')"
   ]
  },
  {
   "cell_type": "code",
   "execution_count": 5,
   "id": "8f7e41a4",
   "metadata": {},
   "outputs": [
    {
     "data": {
      "text/plain": [
       "(547, 35)"
      ]
     },
     "execution_count": 5,
     "metadata": {},
     "output_type": "execute_result"
    }
   ],
   "source": [
    "df.shape"
   ]
  },
  {
   "cell_type": "code",
   "execution_count": 6,
   "id": "120267cb",
   "metadata": {
    "scrolled": true
   },
   "outputs": [
    {
     "data": {
      "text/html": [
       "<div>\n",
       "<style scoped>\n",
       "    .dataframe tbody tr th:only-of-type {\n",
       "        vertical-align: middle;\n",
       "    }\n",
       "\n",
       "    .dataframe tbody tr th {\n",
       "        vertical-align: top;\n",
       "    }\n",
       "\n",
       "    .dataframe thead th {\n",
       "        text-align: right;\n",
       "    }\n",
       "</style>\n",
       "<table border=\"1\" class=\"dataframe\">\n",
       "  <thead>\n",
       "    <tr style=\"text-align: right;\">\n",
       "      <th></th>\n",
       "      <th>valence</th>\n",
       "      <th>speaker</th>\n",
       "      <th>sex</th>\n",
       "      <th>duration</th>\n",
       "      <th>meanF0Hz</th>\n",
       "      <th>stdevF0Hz</th>\n",
       "      <th>HNR</th>\n",
       "      <th>localJitter</th>\n",
       "      <th>localabsoluteJitter</th>\n",
       "      <th>rapJitter</th>\n",
       "      <th>...</th>\n",
       "      <th>f4_median</th>\n",
       "      <th>pF</th>\n",
       "      <th>fdisp</th>\n",
       "      <th>avgFormant</th>\n",
       "      <th>mff</th>\n",
       "      <th>fitch_vtl</th>\n",
       "      <th>delta_f</th>\n",
       "      <th>vtl_delta_f</th>\n",
       "      <th>JitterPCA</th>\n",
       "      <th>ShimmerPCA</th>\n",
       "    </tr>\n",
       "    <tr>\n",
       "      <th>file</th>\n",
       "      <th></th>\n",
       "      <th></th>\n",
       "      <th></th>\n",
       "      <th></th>\n",
       "      <th></th>\n",
       "      <th></th>\n",
       "      <th></th>\n",
       "      <th></th>\n",
       "      <th></th>\n",
       "      <th></th>\n",
       "      <th></th>\n",
       "      <th></th>\n",
       "      <th></th>\n",
       "      <th></th>\n",
       "      <th></th>\n",
       "      <th></th>\n",
       "      <th></th>\n",
       "      <th></th>\n",
       "      <th></th>\n",
       "      <th></th>\n",
       "      <th></th>\n",
       "    </tr>\n",
       "  </thead>\n",
       "  <tbody>\n",
       "    <tr>\n",
       "      <th>Angehelescu_16_seg_00000000.wav</th>\n",
       "      <td>4.0</td>\n",
       "      <td>irina</td>\n",
       "      <td>female</td>\n",
       "      <td>4.28</td>\n",
       "      <td>253.775735</td>\n",
       "      <td>21.862605</td>\n",
       "      <td>9.477288</td>\n",
       "      <td>0.020626</td>\n",
       "      <td>0.000081</td>\n",
       "      <td>0.011053</td>\n",
       "      <td>...</td>\n",
       "      <td>3890.653335</td>\n",
       "      <td>0.034499</td>\n",
       "      <td>1128.602727</td>\n",
       "      <td>2189.947411</td>\n",
       "      <td>1724.099350</td>\n",
       "      <td>16.258670</td>\n",
       "      <td>1100.541549</td>\n",
       "      <td>15.901262</td>\n",
       "      <td>NaN</td>\n",
       "      <td>NaN</td>\n",
       "    </tr>\n",
       "    <tr>\n",
       "      <th>Angehelescu_16_seg_00000001.wav</th>\n",
       "      <td>4.0</td>\n",
       "      <td>irina</td>\n",
       "      <td>female</td>\n",
       "      <td>5.96</td>\n",
       "      <td>230.974964</td>\n",
       "      <td>39.822558</td>\n",
       "      <td>9.240131</td>\n",
       "      <td>0.024346</td>\n",
       "      <td>0.000106</td>\n",
       "      <td>0.012157</td>\n",
       "      <td>...</td>\n",
       "      <td>3865.271638</td>\n",
       "      <td>0.197979</td>\n",
       "      <td>1096.403603</td>\n",
       "      <td>2208.987168</td>\n",
       "      <td>1788.838185</td>\n",
       "      <td>15.664861</td>\n",
       "      <td>1099.272751</td>\n",
       "      <td>15.919616</td>\n",
       "      <td>NaN</td>\n",
       "      <td>NaN</td>\n",
       "    </tr>\n",
       "    <tr>\n",
       "      <th>Angehelescu_16_seg_00000002.wav</th>\n",
       "      <td>4.0</td>\n",
       "      <td>irina</td>\n",
       "      <td>female</td>\n",
       "      <td>6.96</td>\n",
       "      <td>217.720590</td>\n",
       "      <td>40.656277</td>\n",
       "      <td>11.302664</td>\n",
       "      <td>0.017945</td>\n",
       "      <td>0.000082</td>\n",
       "      <td>0.008597</td>\n",
       "      <td>...</td>\n",
       "      <td>3863.210498</td>\n",
       "      <td>-0.734963</td>\n",
       "      <td>1124.081020</td>\n",
       "      <td>2132.891562</td>\n",
       "      <td>1672.220935</td>\n",
       "      <td>16.765487</td>\n",
       "      <td>1076.734110</td>\n",
       "      <td>16.252852</td>\n",
       "      <td>NaN</td>\n",
       "      <td>NaN</td>\n",
       "    </tr>\n",
       "    <tr>\n",
       "      <th>Angehelescu_16_seg_00000003.wav</th>\n",
       "      <td>4.0</td>\n",
       "      <td>irina</td>\n",
       "      <td>female</td>\n",
       "      <td>6.96</td>\n",
       "      <td>223.013685</td>\n",
       "      <td>40.045658</td>\n",
       "      <td>10.033796</td>\n",
       "      <td>0.016122</td>\n",
       "      <td>0.000072</td>\n",
       "      <td>0.007982</td>\n",
       "      <td>...</td>\n",
       "      <td>3889.489510</td>\n",
       "      <td>0.230677</td>\n",
       "      <td>1098.321195</td>\n",
       "      <td>2211.255038</td>\n",
       "      <td>1798.267563</td>\n",
       "      <td>15.587988</td>\n",
       "      <td>1100.690985</td>\n",
       "      <td>15.899104</td>\n",
       "      <td>NaN</td>\n",
       "      <td>NaN</td>\n",
       "    </tr>\n",
       "    <tr>\n",
       "      <th>Angehelescu_16_seg_00000004.wav</th>\n",
       "      <td>3.0</td>\n",
       "      <td>irina</td>\n",
       "      <td>female</td>\n",
       "      <td>1.66</td>\n",
       "      <td>232.001187</td>\n",
       "      <td>25.032989</td>\n",
       "      <td>14.639509</td>\n",
       "      <td>0.014489</td>\n",
       "      <td>0.000063</td>\n",
       "      <td>0.007420</td>\n",
       "      <td>...</td>\n",
       "      <td>3878.346306</td>\n",
       "      <td>0.210506</td>\n",
       "      <td>1122.512046</td>\n",
       "      <td>2203.411591</td>\n",
       "      <td>1740.302593</td>\n",
       "      <td>16.106597</td>\n",
       "      <td>1104.395672</td>\n",
       "      <td>15.845770</td>\n",
       "      <td>NaN</td>\n",
       "      <td>NaN</td>\n",
       "    </tr>\n",
       "  </tbody>\n",
       "</table>\n",
       "<p>5 rows × 35 columns</p>\n",
       "</div>"
      ],
      "text/plain": [
       "                                 valence speaker     sex  duration  \\\n",
       "file                                                                 \n",
       "Angehelescu_16_seg_00000000.wav      4.0   irina  female      4.28   \n",
       "Angehelescu_16_seg_00000001.wav      4.0   irina  female      5.96   \n",
       "Angehelescu_16_seg_00000002.wav      4.0   irina  female      6.96   \n",
       "Angehelescu_16_seg_00000003.wav      4.0   irina  female      6.96   \n",
       "Angehelescu_16_seg_00000004.wav      3.0   irina  female      1.66   \n",
       "\n",
       "                                   meanF0Hz  stdevF0Hz        HNR  \\\n",
       "file                                                                \n",
       "Angehelescu_16_seg_00000000.wav  253.775735  21.862605   9.477288   \n",
       "Angehelescu_16_seg_00000001.wav  230.974964  39.822558   9.240131   \n",
       "Angehelescu_16_seg_00000002.wav  217.720590  40.656277  11.302664   \n",
       "Angehelescu_16_seg_00000003.wav  223.013685  40.045658  10.033796   \n",
       "Angehelescu_16_seg_00000004.wav  232.001187  25.032989  14.639509   \n",
       "\n",
       "                                 localJitter  localabsoluteJitter  rapJitter  \\\n",
       "file                                                                           \n",
       "Angehelescu_16_seg_00000000.wav     0.020626             0.000081   0.011053   \n",
       "Angehelescu_16_seg_00000001.wav     0.024346             0.000106   0.012157   \n",
       "Angehelescu_16_seg_00000002.wav     0.017945             0.000082   0.008597   \n",
       "Angehelescu_16_seg_00000003.wav     0.016122             0.000072   0.007982   \n",
       "Angehelescu_16_seg_00000004.wav     0.014489             0.000063   0.007420   \n",
       "\n",
       "                                 ...    f4_median        pF        fdisp  \\\n",
       "file                             ...                                       \n",
       "Angehelescu_16_seg_00000000.wav  ...  3890.653335  0.034499  1128.602727   \n",
       "Angehelescu_16_seg_00000001.wav  ...  3865.271638  0.197979  1096.403603   \n",
       "Angehelescu_16_seg_00000002.wav  ...  3863.210498 -0.734963  1124.081020   \n",
       "Angehelescu_16_seg_00000003.wav  ...  3889.489510  0.230677  1098.321195   \n",
       "Angehelescu_16_seg_00000004.wav  ...  3878.346306  0.210506  1122.512046   \n",
       "\n",
       "                                  avgFormant          mff  fitch_vtl  \\\n",
       "file                                                                   \n",
       "Angehelescu_16_seg_00000000.wav  2189.947411  1724.099350  16.258670   \n",
       "Angehelescu_16_seg_00000001.wav  2208.987168  1788.838185  15.664861   \n",
       "Angehelescu_16_seg_00000002.wav  2132.891562  1672.220935  16.765487   \n",
       "Angehelescu_16_seg_00000003.wav  2211.255038  1798.267563  15.587988   \n",
       "Angehelescu_16_seg_00000004.wav  2203.411591  1740.302593  16.106597   \n",
       "\n",
       "                                     delta_f  vtl_delta_f  JitterPCA  \\\n",
       "file                                                                   \n",
       "Angehelescu_16_seg_00000000.wav  1100.541549    15.901262        NaN   \n",
       "Angehelescu_16_seg_00000001.wav  1099.272751    15.919616        NaN   \n",
       "Angehelescu_16_seg_00000002.wav  1076.734110    16.252852        NaN   \n",
       "Angehelescu_16_seg_00000003.wav  1100.690985    15.899104        NaN   \n",
       "Angehelescu_16_seg_00000004.wav  1104.395672    15.845770        NaN   \n",
       "\n",
       "                                 ShimmerPCA  \n",
       "file                                         \n",
       "Angehelescu_16_seg_00000000.wav         NaN  \n",
       "Angehelescu_16_seg_00000001.wav         NaN  \n",
       "Angehelescu_16_seg_00000002.wav         NaN  \n",
       "Angehelescu_16_seg_00000003.wav         NaN  \n",
       "Angehelescu_16_seg_00000004.wav         NaN  \n",
       "\n",
       "[5 rows x 35 columns]"
      ]
     },
     "execution_count": 6,
     "metadata": {},
     "output_type": "execute_result"
    }
   ],
   "source": [
    "df.head()"
   ]
  },
  {
   "cell_type": "code",
   "execution_count": 7,
   "id": "d5b7b0c4",
   "metadata": {},
   "outputs": [
    {
     "data": {
      "text/plain": [
       "array(['irina', 'felix', 'lena', 'luise', 'saskia', 'lea', 'alicia',\n",
       "       'nina', 'jannis', 'Carolin-Antonia', 'sophie', 'lisa', 'tobias'],\n",
       "      dtype=object)"
      ]
     },
     "execution_count": 7,
     "metadata": {},
     "output_type": "execute_result"
    }
   ],
   "source": [
    "df.speaker.unique()"
   ]
  },
  {
   "cell_type": "code",
   "execution_count": 8,
   "id": "ba6cfdf4",
   "metadata": {
    "scrolled": true
   },
   "outputs": [
    {
     "data": {
      "text/plain": [
       "<AxesSubplot:>"
      ]
     },
     "execution_count": 8,
     "metadata": {},
     "output_type": "execute_result"
    },
    {
     "data": {
      "image/png": "[encoded data removed]",
      "text/plain": [
       "<Figure size 432x288 with 1 Axes>"
      ]
     },
     "metadata": {
      "needs_background": "light"
     },
     "output_type": "display_data"
    }
   ],
   "source": [
    "df.valence.value_counts().sort_index().plot(kind='bar')"
   ]
  },
  {
   "cell_type": "code",
   "execution_count": 9,
   "id": "da7949f2",
   "metadata": {},
   "outputs": [
    {
     "data": {
      "image/png": "[encoded data removed]",
      "text/plain": [
       "<Figure size 432x288 with 1 Axes>"
      ]
     },
     "metadata": {
      "needs_background": "light"
     },
     "output_type": "display_data"
    }
   ],
   "source": [
    "df.boxplot(by='valence',  column ='meanF0Hz', grid = False)\n",
    "plt.tight_layout()"
   ]
  },
  {
   "cell_type": "code",
   "execution_count": 10,
   "id": "e3d21551",
   "metadata": {},
   "outputs": [
    {
     "data": {
      "image/png": "[encoded data removed]",
      "text/plain": [
       "<Figure size 432x288 with 1 Axes>"
      ]
     },
     "metadata": {
      "needs_background": "light"
     },
     "output_type": "display_data"
    }
   ],
   "source": [
    "df.boxplot(by='sex',  column ='meanF0Hz', grid = False)\n",
    "plt.tight_layout()"
   ]
  },
  {
   "cell_type": "code",
   "execution_count": 11,
   "id": "3d9a146f",
   "metadata": {},
   "outputs": [
    {
     "data": {
      "image/png": "[encoded data removed]",
      "text/plain": [
       "<Figure size 432x288 with 1 Axes>"
      ]
     },
     "metadata": {},
     "output_type": "display_data"
    }
   ],
   "source": [
    "sns.set_theme(style='whitegrid')\n",
    "ax = sns.violinplot(x=df.valence)"
   ]
  },
  {
   "cell_type": "code",
   "execution_count": 12,
   "id": "72750bf4",
   "metadata": {},
   "outputs": [
    {
     "data": {
      "text/html": [
       "<div>\n",
       "<style scoped>\n",
       "    .dataframe tbody tr th:only-of-type {\n",
       "        vertical-align: middle;\n",
       "    }\n",
       "\n",
       "    .dataframe tbody tr th {\n",
       "        vertical-align: top;\n",
       "    }\n",
       "\n",
       "    .dataframe thead th {\n",
       "        text-align: right;\n",
       "    }\n",
       "</style>\n",
       "<table border=\"1\" class=\"dataframe\">\n",
       "  <thead>\n",
       "    <tr style=\"text-align: right;\">\n",
       "      <th></th>\n",
       "      <th>valence</th>\n",
       "      <th>speaker</th>\n",
       "      <th>sex</th>\n",
       "      <th>duration</th>\n",
       "      <th>meanF0Hz</th>\n",
       "      <th>stdevF0Hz</th>\n",
       "      <th>HNR</th>\n",
       "      <th>localJitter</th>\n",
       "      <th>localabsoluteJitter</th>\n",
       "      <th>rapJitter</th>\n",
       "      <th>...</th>\n",
       "      <th>f4_median</th>\n",
       "      <th>pF</th>\n",
       "      <th>fdisp</th>\n",
       "      <th>avgFormant</th>\n",
       "      <th>mff</th>\n",
       "      <th>fitch_vtl</th>\n",
       "      <th>delta_f</th>\n",
       "      <th>vtl_delta_f</th>\n",
       "      <th>JitterPCA</th>\n",
       "      <th>ShimmerPCA</th>\n",
       "    </tr>\n",
       "    <tr>\n",
       "      <th>file</th>\n",
       "      <th></th>\n",
       "      <th></th>\n",
       "      <th></th>\n",
       "      <th></th>\n",
       "      <th></th>\n",
       "      <th></th>\n",
       "      <th></th>\n",
       "      <th></th>\n",
       "      <th></th>\n",
       "      <th></th>\n",
       "      <th></th>\n",
       "      <th></th>\n",
       "      <th></th>\n",
       "      <th></th>\n",
       "      <th></th>\n",
       "      <th></th>\n",
       "      <th></th>\n",
       "      <th></th>\n",
       "      <th></th>\n",
       "      <th></th>\n",
       "      <th></th>\n",
       "    </tr>\n",
       "  </thead>\n",
       "  <tbody>\n",
       "    <tr>\n",
       "      <th>Angehelescu_16_seg_00000000.wav</th>\n",
       "      <td>4.0</td>\n",
       "      <td>irina</td>\n",
       "      <td>female</td>\n",
       "      <td>4.28</td>\n",
       "      <td>253.775735</td>\n",
       "      <td>21.862605</td>\n",
       "      <td>9.477288</td>\n",
       "      <td>0.020626</td>\n",
       "      <td>0.000081</td>\n",
       "      <td>0.011053</td>\n",
       "      <td>...</td>\n",
       "      <td>3890.653335</td>\n",
       "      <td>0.034499</td>\n",
       "      <td>1128.602727</td>\n",
       "      <td>2189.947411</td>\n",
       "      <td>1724.099350</td>\n",
       "      <td>16.258670</td>\n",
       "      <td>1100.541549</td>\n",
       "      <td>15.901262</td>\n",
       "      <td>NaN</td>\n",
       "      <td>NaN</td>\n",
       "    </tr>\n",
       "    <tr>\n",
       "      <th>Angehelescu_16_seg_00000001.wav</th>\n",
       "      <td>4.0</td>\n",
       "      <td>irina</td>\n",
       "      <td>female</td>\n",
       "      <td>5.96</td>\n",
       "      <td>230.974964</td>\n",
       "      <td>39.822558</td>\n",
       "      <td>9.240131</td>\n",
       "      <td>0.024346</td>\n",
       "      <td>0.000106</td>\n",
       "      <td>0.012157</td>\n",
       "      <td>...</td>\n",
       "      <td>3865.271638</td>\n",
       "      <td>0.197979</td>\n",
       "      <td>1096.403603</td>\n",
       "      <td>2208.987168</td>\n",
       "      <td>1788.838185</td>\n",
       "      <td>15.664861</td>\n",
       "      <td>1099.272751</td>\n",
       "      <td>15.919616</td>\n",
       "      <td>NaN</td>\n",
       "      <td>NaN</td>\n",
       "    </tr>\n",
       "    <tr>\n",
       "      <th>Angehelescu_16_seg_00000002.wav</th>\n",
       "      <td>4.0</td>\n",
       "      <td>irina</td>\n",
       "      <td>female</td>\n",
       "      <td>6.96</td>\n",
       "      <td>217.720590</td>\n",
       "      <td>40.656277</td>\n",
       "      <td>11.302664</td>\n",
       "      <td>0.017945</td>\n",
       "      <td>0.000082</td>\n",
       "      <td>0.008597</td>\n",
       "      <td>...</td>\n",
       "      <td>3863.210498</td>\n",
       "      <td>-0.734963</td>\n",
       "      <td>1124.081020</td>\n",
       "      <td>2132.891562</td>\n",
       "      <td>1672.220935</td>\n",
       "      <td>16.765487</td>\n",
       "      <td>1076.734110</td>\n",
       "      <td>16.252852</td>\n",
       "      <td>NaN</td>\n",
       "      <td>NaN</td>\n",
       "    </tr>\n",
       "    <tr>\n",
       "      <th>Angehelescu_16_seg_00000003.wav</th>\n",
       "      <td>4.0</td>\n",
       "      <td>irina</td>\n",
       "      <td>female</td>\n",
       "      <td>6.96</td>\n",
       "      <td>223.013685</td>\n",
       "      <td>40.045658</td>\n",
       "      <td>10.033796</td>\n",
       "      <td>0.016122</td>\n",
       "      <td>0.000072</td>\n",
       "      <td>0.007982</td>\n",
       "      <td>...</td>\n",
       "      <td>3889.489510</td>\n",
       "      <td>0.230677</td>\n",
       "      <td>1098.321195</td>\n",
       "      <td>2211.255038</td>\n",
       "      <td>1798.267563</td>\n",
       "      <td>15.587988</td>\n",
       "      <td>1100.690985</td>\n",
       "      <td>15.899104</td>\n",
       "      <td>NaN</td>\n",
       "      <td>NaN</td>\n",
       "    </tr>\n",
       "    <tr>\n",
       "      <th>Angehelescu_16_seg_00000004.wav</th>\n",
       "      <td>3.0</td>\n",
       "      <td>irina</td>\n",
       "      <td>female</td>\n",
       "      <td>1.66</td>\n",
       "      <td>232.001187</td>\n",
       "      <td>25.032989</td>\n",
       "      <td>14.639509</td>\n",
       "      <td>0.014489</td>\n",
       "      <td>0.000063</td>\n",
       "      <td>0.007420</td>\n",
       "      <td>...</td>\n",
       "      <td>3878.346306</td>\n",
       "      <td>0.210506</td>\n",
       "      <td>1122.512046</td>\n",
       "      <td>2203.411591</td>\n",
       "      <td>1740.302593</td>\n",
       "      <td>16.106597</td>\n",
       "      <td>1104.395672</td>\n",
       "      <td>15.845770</td>\n",
       "      <td>NaN</td>\n",
       "      <td>NaN</td>\n",
       "    </tr>\n",
       "  </tbody>\n",
       "</table>\n",
       "<p>5 rows × 35 columns</p>\n",
       "</div>"
      ],
      "text/plain": [
       "                                 valence speaker     sex  duration  \\\n",
       "file                                                                 \n",
       "Angehelescu_16_seg_00000000.wav      4.0   irina  female      4.28   \n",
       "Angehelescu_16_seg_00000001.wav      4.0   irina  female      5.96   \n",
       "Angehelescu_16_seg_00000002.wav      4.0   irina  female      6.96   \n",
       "Angehelescu_16_seg_00000003.wav      4.0   irina  female      6.96   \n",
       "Angehelescu_16_seg_00000004.wav      3.0   irina  female      1.66   \n",
       "\n",
       "                                   meanF0Hz  stdevF0Hz        HNR  \\\n",
       "file                                                                \n",
       "Angehelescu_16_seg_00000000.wav  253.775735  21.862605   9.477288   \n",
       "Angehelescu_16_seg_00000001.wav  230.974964  39.822558   9.240131   \n",
       "Angehelescu_16_seg_00000002.wav  217.720590  40.656277  11.302664   \n",
       "Angehelescu_16_seg_00000003.wav  223.013685  40.045658  10.033796   \n",
       "Angehelescu_16_seg_00000004.wav  232.001187  25.032989  14.639509   \n",
       "\n",
       "                                 localJitter  localabsoluteJitter  rapJitter  \\\n",
       "file                                                                           \n",
       "Angehelescu_16_seg_00000000.wav     0.020626             0.000081   0.011053   \n",
       "Angehelescu_16_seg_00000001.wav     0.024346             0.000106   0.012157   \n",
       "Angehelescu_16_seg_00000002.wav     0.017945             0.000082   0.008597   \n",
       "Angehelescu_16_seg_00000003.wav     0.016122             0.000072   0.007982   \n",
       "Angehelescu_16_seg_00000004.wav     0.014489             0.000063   0.007420   \n",
       "\n",
       "                                 ...    f4_median        pF        fdisp  \\\n",
       "file                             ...                                       \n",
       "Angehelescu_16_seg_00000000.wav  ...  3890.653335  0.034499  1128.602727   \n",
       "Angehelescu_16_seg_00000001.wav  ...  3865.271638  0.197979  1096.403603   \n",
       "Angehelescu_16_seg_00000002.wav  ...  3863.210498 -0.734963  1124.081020   \n",
       "Angehelescu_16_seg_00000003.wav  ...  3889.489510  0.230677  1098.321195   \n",
       "Angehelescu_16_seg_00000004.wav  ...  3878.346306  0.210506  1122.512046   \n",
       "\n",
       "                                  avgFormant          mff  fitch_vtl  \\\n",
       "file                                                                   \n",
       "Angehelescu_16_seg_00000000.wav  2189.947411  1724.099350  16.258670   \n",
       "Angehelescu_16_seg_00000001.wav  2208.987168  1788.838185  15.664861   \n",
       "Angehelescu_16_seg_00000002.wav  2132.891562  1672.220935  16.765487   \n",
       "Angehelescu_16_seg_00000003.wav  2211.255038  1798.267563  15.587988   \n",
       "Angehelescu_16_seg_00000004.wav  2203.411591  1740.302593  16.106597   \n",
       "\n",
       "                                     delta_f  vtl_delta_f  JitterPCA  \\\n",
       "file                                                                   \n",
       "Angehelescu_16_seg_00000000.wav  1100.541549    15.901262        NaN   \n",
       "Angehelescu_16_seg_00000001.wav  1099.272751    15.919616        NaN   \n",
       "Angehelescu_16_seg_00000002.wav  1076.734110    16.252852        NaN   \n",
       "Angehelescu_16_seg_00000003.wav  1100.690985    15.899104        NaN   \n",
       "Angehelescu_16_seg_00000004.wav  1104.395672    15.845770        NaN   \n",
       "\n",
       "                                 ShimmerPCA  \n",
       "file                                         \n",
       "Angehelescu_16_seg_00000000.wav         NaN  \n",
       "Angehelescu_16_seg_00000001.wav         NaN  \n",
       "Angehelescu_16_seg_00000002.wav         NaN  \n",
       "Angehelescu_16_seg_00000003.wav         NaN  \n",
       "Angehelescu_16_seg_00000004.wav         NaN  \n",
       "\n",
       "[5 rows x 35 columns]"
      ]
     },
     "execution_count": 12,
     "metadata": {},
     "output_type": "execute_result"
    }
   ],
   "source": [
    "df.head()"
   ]
  },
  {
   "cell_type": "code",
   "execution_count": 13,
   "id": "f5f04c22",
   "metadata": {},
   "outputs": [
    {
     "data": {
      "text/plain": [
       "True"
      ]
     },
     "execution_count": 13,
     "metadata": {},
     "output_type": "execute_result"
    }
   ],
   "source": [
    "df.isnull().values.any()"
   ]
  },
  {
   "cell_type": "code",
   "execution_count": 14,
   "id": "f46f826e",
   "metadata": {},
   "outputs": [
    {
     "name": "stdout",
     "output_type": "stream",
     "text": [
      "file\n",
      "Angehelescu_16_seg_00000000.wav    False\n",
      "Angehelescu_16_seg_00000001.wav    False\n",
      "Angehelescu_16_seg_00000002.wav    False\n",
      "Angehelescu_16_seg_00000003.wav    False\n",
      "Angehelescu_16_seg_00000004.wav    False\n",
      "                                   ...  \n",
      "Wendel_16_seg_00000007.wav         False\n",
      "Wendel_16_seg_00000009.wav         False\n",
      "Wendel_16_seg_00000026.wav         False\n",
      "Wendel_16_seg_00000036.wav         False\n",
      "Wendel_16_seg_00000037.wav         False\n",
      "Name: speaker, Length: 547, dtype: bool\n"
     ]
    }
   ],
   "source": [
    "check_for_nan = df['speaker'].isnull()\n",
    "print (check_for_nan) "
   ]
  },
  {
   "cell_type": "code",
   "execution_count": 15,
   "id": "428caf8e",
   "metadata": {},
   "outputs": [
    {
     "name": "stdout",
     "output_type": "stream",
     "text": [
      "\n",
      "apq3Shimmer includes 1 nan, I'll insert mean values\n",
      "\n",
      "apq5Shimmer includes 1 nan, I'll insert mean values\n",
      "\n",
      "apq11Shimmer includes 3 nan, I'll insert mean values\n",
      "\n",
      "ddaShimmer includes 1 nan, I'll insert mean values\n",
      "\n",
      "pF includes 41 nan, I'll insert mean values\n",
      "\n",
      "fdisp includes 41 nan, I'll insert mean values\n",
      "\n",
      "avgFormant includes 41 nan, I'll insert mean values\n",
      "\n",
      "mff includes 41 nan, I'll insert mean values\n",
      "\n",
      "fitch_vtl includes 41 nan, I'll insert mean values\n",
      "\n",
      "delta_f includes 41 nan, I'll insert mean values\n",
      "\n",
      "vtl_delta_f includes 41 nan, I'll insert mean values\n",
      "\n",
      "JitterPCA includes 101 nan, I'll insert mean values\n",
      "\n",
      "ShimmerPCA includes 101 nan, I'll insert mean values\n"
     ]
    }
   ],
   "source": [
    "# replace NANs with mean value\n",
    "for i, col in enumerate(df.iloc[:,3:].columns):\n",
    "    if np.isnan(df[col]).any():\n",
    "        print()\n",
    "        print('{} includes {} nan, I\\'ll insert mean values'.format(col, df[col].isna().sum()))\n",
    "        df[col] = df[col].fillna(df[col].mean())\n",
    "df.to_pickle('all_participants_nonan.pkl')"
   ]
  },
  {
   "cell_type": "code",
   "execution_count": 16,
   "id": "8ea1d230",
   "metadata": {
    "scrolled": true
   },
   "outputs": [
    {
     "name": "stderr",
     "output_type": "stream",
     "text": [
      "c:\\users\\jannis\\seminarsprechstile\\venv\\lib\\site-packages\\seaborn\\axisgrid.py:316: UserWarning: The `size` parameter has been renamed to `height`; please update your code.\n",
      "  warnings.warn(msg, UserWarning)\n"
     ]
    },
    {
     "data": {
      "image/png": "[encoded data removed]",
      "text/plain": [
       "<Figure size 487.1x432 with 1 Axes>"
      ]
     },
     "metadata": {},
     "output_type": "display_data"
    }
   ],
   "source": [
    "# Plot a TSNE\n",
    "def plotTsne(feats, labels, perplexity=30, learning_rate=200):\n",
    "    model = TSNE(n_components=2, random_state=0, perplexity=perplexity, learning_rate=learning_rate)\n",
    "    tsne_data = model.fit_transform(feats)\n",
    "    tsne_data_labs = np.vstack((tsne_data.T, labels)).T\n",
    "    tsne_df = pd.DataFrame(data=tsne_data_labs, columns=('Dim_1', 'Dim_2', 'label'))\n",
    "    sns.FacetGrid(tsne_df, hue='label', size=6).map(plt.scatter, 'Dim_1', 'Dim_2').add_legend()\n",
    "    plt.show()\n",
    "plotTsne(df.iloc[:,3:], df['valence'], 60, 200)"
   ]
  },
  {
   "cell_type": "markdown",
   "id": "c22000c6",
   "metadata": {},
   "source": [
    "Discretize the label"
   ]
  },
  {
   "cell_type": "code",
   "execution_count": 17,
   "id": "bedaf315",
   "metadata": {},
   "outputs": [],
   "source": [
    "df = pd.read_pickle('all_participants_nonan.pkl')"
   ]
  },
  {
   "cell_type": "code",
   "execution_count": 18,
   "id": "1a6034d7",
   "metadata": {},
   "outputs": [],
   "source": [
    "# discretzie valence with border between 3 and 4\n",
    "df.insert(1, 'val_bin', -1)\n",
    "df['val_bin'] = np.digitize (df.valence.values, [0,4,7])-1"
   ]
  },
  {
   "cell_type": "code",
   "execution_count": 19,
   "id": "9f0a64fc",
   "metadata": {},
   "outputs": [
    {
     "data": {
      "text/html": [
       "<div>\n",
       "<style scoped>\n",
       "    .dataframe tbody tr th:only-of-type {\n",
       "        vertical-align: middle;\n",
       "    }\n",
       "\n",
       "    .dataframe tbody tr th {\n",
       "        vertical-align: top;\n",
       "    }\n",
       "\n",
       "    .dataframe thead th {\n",
       "        text-align: right;\n",
       "    }\n",
       "</style>\n",
       "<table border=\"1\" class=\"dataframe\">\n",
       "  <thead>\n",
       "    <tr style=\"text-align: right;\">\n",
       "      <th></th>\n",
       "      <th>valence</th>\n",
       "      <th>val_bin</th>\n",
       "      <th>speaker</th>\n",
       "      <th>sex</th>\n",
       "      <th>duration</th>\n",
       "      <th>meanF0Hz</th>\n",
       "      <th>stdevF0Hz</th>\n",
       "      <th>HNR</th>\n",
       "      <th>localJitter</th>\n",
       "      <th>localabsoluteJitter</th>\n",
       "      <th>...</th>\n",
       "      <th>f4_median</th>\n",
       "      <th>pF</th>\n",
       "      <th>fdisp</th>\n",
       "      <th>avgFormant</th>\n",
       "      <th>mff</th>\n",
       "      <th>fitch_vtl</th>\n",
       "      <th>delta_f</th>\n",
       "      <th>vtl_delta_f</th>\n",
       "      <th>JitterPCA</th>\n",
       "      <th>ShimmerPCA</th>\n",
       "    </tr>\n",
       "    <tr>\n",
       "      <th>file</th>\n",
       "      <th></th>\n",
       "      <th></th>\n",
       "      <th></th>\n",
       "      <th></th>\n",
       "      <th></th>\n",
       "      <th></th>\n",
       "      <th></th>\n",
       "      <th></th>\n",
       "      <th></th>\n",
       "      <th></th>\n",
       "      <th></th>\n",
       "      <th></th>\n",
       "      <th></th>\n",
       "      <th></th>\n",
       "      <th></th>\n",
       "      <th></th>\n",
       "      <th></th>\n",
       "      <th></th>\n",
       "      <th></th>\n",
       "      <th></th>\n",
       "      <th></th>\n",
       "    </tr>\n",
       "  </thead>\n",
       "  <tbody>\n",
       "    <tr>\n",
       "      <th>Angehelescu_16_seg_00000000.wav</th>\n",
       "      <td>4.0</td>\n",
       "      <td>1</td>\n",
       "      <td>irina</td>\n",
       "      <td>female</td>\n",
       "      <td>4.28</td>\n",
       "      <td>253.775735</td>\n",
       "      <td>21.862605</td>\n",
       "      <td>9.477288</td>\n",
       "      <td>0.020626</td>\n",
       "      <td>0.000081</td>\n",
       "      <td>...</td>\n",
       "      <td>3890.653335</td>\n",
       "      <td>0.034499</td>\n",
       "      <td>1128.602727</td>\n",
       "      <td>2189.947411</td>\n",
       "      <td>1724.099350</td>\n",
       "      <td>16.258670</td>\n",
       "      <td>1100.541549</td>\n",
       "      <td>15.901262</td>\n",
       "      <td>-0.009108</td>\n",
       "      <td>-0.003013</td>\n",
       "    </tr>\n",
       "    <tr>\n",
       "      <th>Angehelescu_16_seg_00000001.wav</th>\n",
       "      <td>4.0</td>\n",
       "      <td>1</td>\n",
       "      <td>irina</td>\n",
       "      <td>female</td>\n",
       "      <td>5.96</td>\n",
       "      <td>230.974964</td>\n",
       "      <td>39.822558</td>\n",
       "      <td>9.240131</td>\n",
       "      <td>0.024346</td>\n",
       "      <td>0.000106</td>\n",
       "      <td>...</td>\n",
       "      <td>3865.271638</td>\n",
       "      <td>0.197979</td>\n",
       "      <td>1096.403603</td>\n",
       "      <td>2208.987168</td>\n",
       "      <td>1788.838185</td>\n",
       "      <td>15.664861</td>\n",
       "      <td>1099.272751</td>\n",
       "      <td>15.919616</td>\n",
       "      <td>-0.009108</td>\n",
       "      <td>-0.003013</td>\n",
       "    </tr>\n",
       "    <tr>\n",
       "      <th>Angehelescu_16_seg_00000002.wav</th>\n",
       "      <td>4.0</td>\n",
       "      <td>1</td>\n",
       "      <td>irina</td>\n",
       "      <td>female</td>\n",
       "      <td>6.96</td>\n",
       "      <td>217.720590</td>\n",
       "      <td>40.656277</td>\n",
       "      <td>11.302664</td>\n",
       "      <td>0.017945</td>\n",
       "      <td>0.000082</td>\n",
       "      <td>...</td>\n",
       "      <td>3863.210498</td>\n",
       "      <td>-0.734963</td>\n",
       "      <td>1124.081020</td>\n",
       "      <td>2132.891562</td>\n",
       "      <td>1672.220935</td>\n",
       "      <td>16.765487</td>\n",
       "      <td>1076.734110</td>\n",
       "      <td>16.252852</td>\n",
       "      <td>-0.009108</td>\n",
       "      <td>-0.003013</td>\n",
       "    </tr>\n",
       "    <tr>\n",
       "      <th>Angehelescu_16_seg_00000003.wav</th>\n",
       "      <td>4.0</td>\n",
       "      <td>1</td>\n",
       "      <td>irina</td>\n",
       "      <td>female</td>\n",
       "      <td>6.96</td>\n",
       "      <td>223.013685</td>\n",
       "      <td>40.045658</td>\n",
       "      <td>10.033796</td>\n",
       "      <td>0.016122</td>\n",
       "      <td>0.000072</td>\n",
       "      <td>...</td>\n",
       "      <td>3889.489510</td>\n",
       "      <td>0.230677</td>\n",
       "      <td>1098.321195</td>\n",
       "      <td>2211.255038</td>\n",
       "      <td>1798.267563</td>\n",
       "      <td>15.587988</td>\n",
       "      <td>1100.690985</td>\n",
       "      <td>15.899104</td>\n",
       "      <td>-0.009108</td>\n",
       "      <td>-0.003013</td>\n",
       "    </tr>\n",
       "    <tr>\n",
       "      <th>Angehelescu_16_seg_00000004.wav</th>\n",
       "      <td>3.0</td>\n",
       "      <td>0</td>\n",
       "      <td>irina</td>\n",
       "      <td>female</td>\n",
       "      <td>1.66</td>\n",
       "      <td>232.001187</td>\n",
       "      <td>25.032989</td>\n",
       "      <td>14.639509</td>\n",
       "      <td>0.014489</td>\n",
       "      <td>0.000063</td>\n",
       "      <td>...</td>\n",
       "      <td>3878.346306</td>\n",
       "      <td>0.210506</td>\n",
       "      <td>1122.512046</td>\n",
       "      <td>2203.411591</td>\n",
       "      <td>1740.302593</td>\n",
       "      <td>16.106597</td>\n",
       "      <td>1104.395672</td>\n",
       "      <td>15.845770</td>\n",
       "      <td>-0.009108</td>\n",
       "      <td>-0.003013</td>\n",
       "    </tr>\n",
       "  </tbody>\n",
       "</table>\n",
       "<p>5 rows × 36 columns</p>\n",
       "</div>"
      ],
      "text/plain": [
       "                                 valence  val_bin speaker     sex  duration  \\\n",
       "file                                                                          \n",
       "Angehelescu_16_seg_00000000.wav      4.0        1   irina  female      4.28   \n",
       "Angehelescu_16_seg_00000001.wav      4.0        1   irina  female      5.96   \n",
       "Angehelescu_16_seg_00000002.wav      4.0        1   irina  female      6.96   \n",
       "Angehelescu_16_seg_00000003.wav      4.0        1   irina  female      6.96   \n",
       "Angehelescu_16_seg_00000004.wav      3.0        0   irina  female      1.66   \n",
       "\n",
       "                                   meanF0Hz  stdevF0Hz        HNR  \\\n",
       "file                                                                \n",
       "Angehelescu_16_seg_00000000.wav  253.775735  21.862605   9.477288   \n",
       "Angehelescu_16_seg_00000001.wav  230.974964  39.822558   9.240131   \n",
       "Angehelescu_16_seg_00000002.wav  217.720590  40.656277  11.302664   \n",
       "Angehelescu_16_seg_00000003.wav  223.013685  40.045658  10.033796   \n",
       "Angehelescu_16_seg_00000004.wav  232.001187  25.032989  14.639509   \n",
       "\n",
       "                                 localJitter  localabsoluteJitter  ...  \\\n",
       "file                                                               ...   \n",
       "Angehelescu_16_seg_00000000.wav     0.020626             0.000081  ...   \n",
       "Angehelescu_16_seg_00000001.wav     0.024346             0.000106  ...   \n",
       "Angehelescu_16_seg_00000002.wav     0.017945             0.000082  ...   \n",
       "Angehelescu_16_seg_00000003.wav     0.016122             0.000072  ...   \n",
       "Angehelescu_16_seg_00000004.wav     0.014489             0.000063  ...   \n",
       "\n",
       "                                   f4_median        pF        fdisp  \\\n",
       "file                                                                  \n",
       "Angehelescu_16_seg_00000000.wav  3890.653335  0.034499  1128.602727   \n",
       "Angehelescu_16_seg_00000001.wav  3865.271638  0.197979  1096.403603   \n",
       "Angehelescu_16_seg_00000002.wav  3863.210498 -0.734963  1124.081020   \n",
       "Angehelescu_16_seg_00000003.wav  3889.489510  0.230677  1098.321195   \n",
       "Angehelescu_16_seg_00000004.wav  3878.346306  0.210506  1122.512046   \n",
       "\n",
       "                                  avgFormant          mff  fitch_vtl  \\\n",
       "file                                                                   \n",
       "Angehelescu_16_seg_00000000.wav  2189.947411  1724.099350  16.258670   \n",
       "Angehelescu_16_seg_00000001.wav  2208.987168  1788.838185  15.664861   \n",
       "Angehelescu_16_seg_00000002.wav  2132.891562  1672.220935  16.765487   \n",
       "Angehelescu_16_seg_00000003.wav  2211.255038  1798.267563  15.587988   \n",
       "Angehelescu_16_seg_00000004.wav  2203.411591  1740.302593  16.106597   \n",
       "\n",
       "                                     delta_f  vtl_delta_f  JitterPCA  \\\n",
       "file                                                                   \n",
       "Angehelescu_16_seg_00000000.wav  1100.541549    15.901262  -0.009108   \n",
       "Angehelescu_16_seg_00000001.wav  1099.272751    15.919616  -0.009108   \n",
       "Angehelescu_16_seg_00000002.wav  1076.734110    16.252852  -0.009108   \n",
       "Angehelescu_16_seg_00000003.wav  1100.690985    15.899104  -0.009108   \n",
       "Angehelescu_16_seg_00000004.wav  1104.395672    15.845770  -0.009108   \n",
       "\n",
       "                                 ShimmerPCA  \n",
       "file                                         \n",
       "Angehelescu_16_seg_00000000.wav   -0.003013  \n",
       "Angehelescu_16_seg_00000001.wav   -0.003013  \n",
       "Angehelescu_16_seg_00000002.wav   -0.003013  \n",
       "Angehelescu_16_seg_00000003.wav   -0.003013  \n",
       "Angehelescu_16_seg_00000004.wav   -0.003013  \n",
       "\n",
       "[5 rows x 36 columns]"
      ]
     },
     "execution_count": 19,
     "metadata": {},
     "output_type": "execute_result"
    }
   ],
   "source": [
    "df.head()"
   ]
  },
  {
   "cell_type": "code",
   "execution_count": 20,
   "id": "2acf50e1",
   "metadata": {},
   "outputs": [
    {
     "data": {
      "text/plain": [
       "<AxesSubplot:>"
      ]
     },
     "execution_count": 20,
     "metadata": {},
     "output_type": "execute_result"
    },
    {
     "data": {
      "image/png": "[encoded data removed]",
      "text/plain": [
       "<Figure size 432x288 with 1 Axes>"
      ]
     },
     "metadata": {},
     "output_type": "display_data"
    }
   ],
   "source": [
    "df.val_bin.value_counts().plot(kind ='bar')"
   ]
  },
  {
   "cell_type": "code",
   "execution_count": 21,
   "id": "c5c8916e",
   "metadata": {},
   "outputs": [
    {
     "name": "stderr",
     "output_type": "stream",
     "text": [
      "c:\\users\\jannis\\seminarsprechstile\\venv\\lib\\site-packages\\seaborn\\axisgrid.py:316: UserWarning: The `size` parameter has been renamed to `height`; please update your code.\n",
      "  warnings.warn(msg, UserWarning)\n"
     ]
    },
    {
     "data": {
      "image/png": "[encoded data removed]",
      "text/plain": [
       "<Figure size 486.975x432 with 1 Axes>"
      ]
     },
     "metadata": {},
     "output_type": "display_data"
    }
   ],
   "source": [
    "plotTsne(df.iloc[:,4:], df['val_bin'], 60, 200)"
   ]
  }
 ],
 "metadata": {
  "kernelspec": {
   "display_name": "Python 3",
   "language": "python",
   "name": "python3"
  },
  "language_info": {
   "codemirror_mode": {
    "name": "ipython",
    "version": 3
   },
   "file_extension": ".py",
   "mimetype": "text/x-python",
   "name": "python",
   "nbconvert_exporter": "python",
   "pygments_lexer": "ipython3",
   "version": "3.9.6"
  }
 },
 "nbformat": 4,
 "nbformat_minor": 5
}
