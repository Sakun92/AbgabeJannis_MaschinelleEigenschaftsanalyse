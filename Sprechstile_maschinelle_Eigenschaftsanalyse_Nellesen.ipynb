{
 "cells": [
  {
   "cell_type": "markdown",
   "id": "dfa36206",
   "metadata": {},
   "source": [
    "Seminar: Sprechstile – maschinelle Eigenschaftsanalyse"
   ]
  },
  {
   "cell_type": "markdown",
   "id": "27d1b129",
   "metadata": {},
   "source": [
    "Importiert unterstützende Libraries in das Jupyter Notebook."
   ]
  },
  {
   "cell_type": "code",
   "execution_count": 1,
   "id": "845764b1",
   "metadata": {},
   "outputs": [],
   "source": [
    "import pandas as pd\n",
    "import matplotlib.pyplot as plt\n",
    "import os\n",
    "import seaborn as sns\n",
    "from scipy.stats import pearsonr\n",
    "import numpy as np"
   ]
  },
  {
   "cell_type": "markdown",
   "id": "5b984336",
   "metadata": {},
   "source": [
    "Liest CSV-Datei in das Notebook ein. Jede Zeile muss den jeweiligen Dateipfad (& Namen) und die Valenz enthalten."
   ]
  },
  {
   "cell_type": "code",
   "execution_count": 2,
   "id": "569202b2",
   "metadata": {},
   "outputs": [],
   "source": [
    "df = pd.read_csv('labels.txt', sep = ' ', header=None)"
   ]
  },
  {
   "cell_type": "markdown",
   "id": "5d3d92bf",
   "metadata": {},
   "source": [
    "Gibt aus welchen Datentyp ich eingelesen habe."
   ]
  },
  {
   "cell_type": "code",
   "execution_count": 3,
   "id": "a1dcd152",
   "metadata": {},
   "outputs": [
    {
     "data": {
      "text/plain": [
       "pandas.core.frame.DataFrame"
      ]
     },
     "execution_count": 3,
     "metadata": {},
     "output_type": "execute_result"
    }
   ],
   "source": [
    "type(df)"
   ]
  },
  {
   "cell_type": "markdown",
   "id": "eb85c4e4",
   "metadata": {},
   "source": [
    "Gibt Zeilen- und Spaltenanzahl der gelesenen Datei aus."
   ]
  },
  {
   "cell_type": "code",
   "execution_count": 4,
   "id": "0c954fc6",
   "metadata": {
    "scrolled": true
   },
   "outputs": [
    {
     "data": {
      "text/plain": [
       "(46, 2)"
      ]
     },
     "execution_count": 4,
     "metadata": {},
     "output_type": "execute_result"
    }
   ],
   "source": [
    "df.shape"
   ]
  },
  {
   "cell_type": "markdown",
   "id": "0e846730",
   "metadata": {},
   "source": [
    "Zeigt die ersten fünf Zeilen der eingelesenen Datei an. Die Zahl in Klammern variiert die Zeilenanzahl."
   ]
  },
  {
   "cell_type": "code",
   "execution_count": 5,
   "id": "a8e4e207",
   "metadata": {},
   "outputs": [
    {
     "data": {
      "text/html": [
       "<div>\n",
       "<style scoped>\n",
       "    .dataframe tbody tr th:only-of-type {\n",
       "        vertical-align: middle;\n",
       "    }\n",
       "\n",
       "    .dataframe tbody tr th {\n",
       "        vertical-align: top;\n",
       "    }\n",
       "\n",
       "    .dataframe thead th {\n",
       "        text-align: right;\n",
       "    }\n",
       "</style>\n",
       "<table border=\"1\" class=\"dataframe\">\n",
       "  <thead>\n",
       "    <tr style=\"text-align: right;\">\n",
       "      <th></th>\n",
       "      <th>0</th>\n",
       "      <th>1</th>\n",
       "    </tr>\n",
       "  </thead>\n",
       "  <tbody>\n",
       "    <tr>\n",
       "      <th>0</th>\n",
       "      <td>../NellesenSound/Nellesen_16_seg_00000000.wav</td>\n",
       "      <td>3.0</td>\n",
       "    </tr>\n",
       "    <tr>\n",
       "      <th>1</th>\n",
       "      <td>../NellesenSound/Nellesen_16_seg_00000001.wav</td>\n",
       "      <td>4.0</td>\n",
       "    </tr>\n",
       "    <tr>\n",
       "      <th>2</th>\n",
       "      <td>../NellesenSound/Nellesen_16_seg_00000002.wav</td>\n",
       "      <td>4.0</td>\n",
       "    </tr>\n",
       "    <tr>\n",
       "      <th>3</th>\n",
       "      <td>../NellesenSound/Nellesen_16_seg_00000003.wav</td>\n",
       "      <td>4.0</td>\n",
       "    </tr>\n",
       "    <tr>\n",
       "      <th>4</th>\n",
       "      <td>../NellesenSound/Nellesen_16_seg_00000004.wav</td>\n",
       "      <td>2.0</td>\n",
       "    </tr>\n",
       "  </tbody>\n",
       "</table>\n",
       "</div>"
      ],
      "text/plain": [
       "                                               0    1\n",
       "0  ../NellesenSound/Nellesen_16_seg_00000000.wav  3.0\n",
       "1  ../NellesenSound/Nellesen_16_seg_00000001.wav  4.0\n",
       "2  ../NellesenSound/Nellesen_16_seg_00000002.wav  4.0\n",
       "3  ../NellesenSound/Nellesen_16_seg_00000003.wav  4.0\n",
       "4  ../NellesenSound/Nellesen_16_seg_00000004.wav  2.0"
      ]
     },
     "execution_count": 5,
     "metadata": {},
     "output_type": "execute_result"
    }
   ],
   "source": [
    "df.head(5)"
   ]
  },
  {
   "cell_type": "markdown",
   "id": "fc0a3f70",
   "metadata": {},
   "source": [
    "Benennt die Spalten in 'file' und 'valence'."
   ]
  },
  {
   "cell_type": "code",
   "execution_count": 6,
   "id": "8dc4f1b3",
   "metadata": {},
   "outputs": [],
   "source": [
    "cols=['file', 'valence']"
   ]
  },
  {
   "cell_type": "code",
   "execution_count": 7,
   "id": "5ca6b065",
   "metadata": {},
   "outputs": [],
   "source": [
    "df.columns = cols"
   ]
  },
  {
   "cell_type": "code",
   "execution_count": 8,
   "id": "3a6a4dfd",
   "metadata": {},
   "outputs": [],
   "source": [
    "df = df.set_index('file')"
   ]
  },
  {
   "cell_type": "markdown",
   "id": "5e6d5850",
   "metadata": {},
   "source": [
    "Nimmt den bisherigen Wert bei 'file' und ersetzt diesen nur mit dem enthaltenen Dateinamen."
   ]
  },
  {
   "cell_type": "code",
   "execution_count": 9,
   "id": "2afcb560",
   "metadata": {},
   "outputs": [],
   "source": [
    "df.index = df.index.to_series().apply(lambda x: os.path.basename(x))"
   ]
  },
  {
   "cell_type": "code",
   "execution_count": 10,
   "id": "cc13494f",
   "metadata": {},
   "outputs": [
    {
     "data": {
      "text/html": [
       "<div>\n",
       "<style scoped>\n",
       "    .dataframe tbody tr th:only-of-type {\n",
       "        vertical-align: middle;\n",
       "    }\n",
       "\n",
       "    .dataframe tbody tr th {\n",
       "        vertical-align: top;\n",
       "    }\n",
       "\n",
       "    .dataframe thead th {\n",
       "        text-align: right;\n",
       "    }\n",
       "</style>\n",
       "<table border=\"1\" class=\"dataframe\">\n",
       "  <thead>\n",
       "    <tr style=\"text-align: right;\">\n",
       "      <th></th>\n",
       "      <th>valence</th>\n",
       "    </tr>\n",
       "    <tr>\n",
       "      <th>file</th>\n",
       "      <th></th>\n",
       "    </tr>\n",
       "  </thead>\n",
       "  <tbody>\n",
       "    <tr>\n",
       "      <th>Nellesen_16_seg_00000000.wav</th>\n",
       "      <td>3.0</td>\n",
       "    </tr>\n",
       "    <tr>\n",
       "      <th>Nellesen_16_seg_00000001.wav</th>\n",
       "      <td>4.0</td>\n",
       "    </tr>\n",
       "  </tbody>\n",
       "</table>\n",
       "</div>"
      ],
      "text/plain": [
       "                              valence\n",
       "file                                 \n",
       "Nellesen_16_seg_00000000.wav      3.0\n",
       "Nellesen_16_seg_00000001.wav      4.0"
      ]
     },
     "execution_count": 10,
     "metadata": {},
     "output_type": "execute_result"
    }
   ],
   "source": [
    "df.head(2)"
   ]
  },
  {
   "cell_type": "markdown",
   "id": "0791d1ad",
   "metadata": {},
   "source": [
    "Gibt aus welchen Typ die Valenz hat."
   ]
  },
  {
   "cell_type": "code",
   "execution_count": 11,
   "id": "09f0d20d",
   "metadata": {},
   "outputs": [
    {
     "data": {
      "text/plain": [
       "pandas.core.series.Series"
      ]
     },
     "execution_count": 11,
     "metadata": {},
     "output_type": "execute_result"
    }
   ],
   "source": [
    "type(df.valence)"
   ]
  },
  {
   "cell_type": "markdown",
   "id": "b3518521",
   "metadata": {},
   "source": [
    "Plottet den Dataframe automatisch, nimmt Spalte 1 als X-Achse und Spalte 2 als Y-Achse."
   ]
  },
  {
   "cell_type": "code",
   "execution_count": 12,
   "id": "abc8d83b",
   "metadata": {
    "scrolled": true
   },
   "outputs": [
    {
     "data": {
      "text/plain": [
       "<AxesSubplot:xlabel='file'>"
      ]
     },
     "execution_count": 12,
     "metadata": {},
     "output_type": "execute_result"
    },
    {
     "data": {
      "image/png": "[encoded data removed]",
      "text/plain": [
       "<Figure size 432x288 with 1 Axes>"
      ]
     },
     "metadata": {
      "needs_background": "light"
     },
     "output_type": "display_data"
    }
   ],
   "source": [
    "df.plot()"
   ]
  },
  {
   "cell_type": "markdown",
   "id": "d44f85d2",
   "metadata": {},
   "source": [
    "Zählt als eine Art Histogramm wie häufig die jeweilige Valenz vorkommt."
   ]
  },
  {
   "cell_type": "code",
   "execution_count": 13,
   "id": "70f5aca0",
   "metadata": {},
   "outputs": [
    {
     "data": {
      "text/plain": [
       "4.0    17\n",
       "3.0    11\n",
       "2.0     7\n",
       "5.0     7\n",
       "6.0     2\n",
       "1.0     2\n",
       "Name: valence, dtype: int64"
      ]
     },
     "execution_count": 13,
     "metadata": {},
     "output_type": "execute_result"
    }
   ],
   "source": [
    "df.valence.value_counts()"
   ]
  },
  {
   "cell_type": "markdown",
   "id": "0849c81d",
   "metadata": {},
   "source": [
    "Plottet das Histogramm als Säulendiagramm."
   ]
  },
  {
   "cell_type": "code",
   "execution_count": 14,
   "id": "113ebf8c",
   "metadata": {
    "scrolled": true
   },
   "outputs": [
    {
     "data": {
      "text/plain": [
       "<AxesSubplot:>"
      ]
     },
     "execution_count": 14,
     "metadata": {},
     "output_type": "execute_result"
    },
    {
     "data": {
      "image/png": "[encoded data removed]",
      "text/plain": [
       "<Figure size 432x288 with 1 Axes>"
      ]
     },
     "metadata": {
      "needs_background": "light"
     },
     "output_type": "display_data"
    }
   ],
   "source": [
    "df.valence.value_counts().plot(kind='bar')"
   ]
  },
  {
   "cell_type": "markdown",
   "id": "cd53c199",
   "metadata": {},
   "source": [
    "Plottet das Histogramm als Kuchendiagramm."
   ]
  },
  {
   "cell_type": "code",
   "execution_count": 15,
   "id": "cece8a88",
   "metadata": {},
   "outputs": [
    {
     "data": {
      "text/plain": [
       "<AxesSubplot:ylabel='valence'>"
      ]
     },
     "execution_count": 15,
     "metadata": {},
     "output_type": "execute_result"
    },
    {
     "data": {
      "image/png": "[encoded data removed]",
      "text/plain": [
       "<Figure size 432x288 with 1 Axes>"
      ]
     },
     "metadata": {},
     "output_type": "display_data"
    }
   ],
   "source": [
    "df.valence.value_counts().plot(kind='pie')"
   ]
  },
  {
   "cell_type": "markdown",
   "id": "44c4c0e0",
   "metadata": {},
   "source": [
    "Gibt verschiedene Informationen über den Dataframe aus wie bspw. Speicherverbrauch, Einträge (Zeilen) und Datentyp."
   ]
  },
  {
   "cell_type": "code",
   "execution_count": 16,
   "id": "99c88198",
   "metadata": {},
   "outputs": [
    {
     "name": "stdout",
     "output_type": "stream",
     "text": [
      "<class 'pandas.core.frame.DataFrame'>\n",
      "Index: 46 entries, Nellesen_16_seg_00000000.wav to Nellesen_16_seg_00000045.wav\n",
      "Data columns (total 1 columns):\n",
      " #   Column   Non-Null Count  Dtype  \n",
      "---  ------   --------------  -----  \n",
      " 0   valence  46 non-null     float64\n",
      "dtypes: float64(1)\n",
      "memory usage: 736.0+ bytes\n"
     ]
    }
   ],
   "source": [
    "df.info()"
   ]
  },
  {
   "cell_type": "markdown",
   "id": "98cefc2d",
   "metadata": {},
   "source": [
    "Gibt den Dataframe im \"whitegrid\"-Stil mit der Valenz auf der X-Achse als Violinplot aus."
   ]
  },
  {
   "cell_type": "code",
   "execution_count": 17,
   "id": "4ab8638d",
   "metadata": {},
   "outputs": [],
   "source": [
    "sns.set_theme(style=\"whitegrid\")"
   ]
  },
  {
   "cell_type": "code",
   "execution_count": 18,
   "id": "60cf576e",
   "metadata": {
    "scrolled": true
   },
   "outputs": [
    {
     "data": {
      "image/png": "[encoded data removed]",
      "text/plain": [
       "<Figure size 432x288 with 1 Axes>"
      ]
     },
     "metadata": {},
     "output_type": "display_data"
    }
   ],
   "source": [
    "ax = sns.violinplot(x=df.valence)"
   ]
  },
  {
   "cell_type": "markdown",
   "id": "e958cace",
   "metadata": {},
   "source": [
    "Liest neuen Dataframe aus pickle-Datei ein mit den vorher gemessenen Grundfrequenzen aus dem Praat-Script."
   ]
  },
  {
   "cell_type": "code",
   "execution_count": 19,
   "id": "8cd5ec38",
   "metadata": {},
   "outputs": [],
   "source": [
    "df_f0 = pd.read_pickle ('meanf0.pkl')"
   ]
  },
  {
   "cell_type": "code",
   "execution_count": 20,
   "id": "6879b04b",
   "metadata": {},
   "outputs": [
    {
     "data": {
      "text/html": [
       "<div>\n",
       "<style scoped>\n",
       "    .dataframe tbody tr th:only-of-type {\n",
       "        vertical-align: middle;\n",
       "    }\n",
       "\n",
       "    .dataframe tbody tr th {\n",
       "        vertical-align: top;\n",
       "    }\n",
       "\n",
       "    .dataframe thead th {\n",
       "        text-align: right;\n",
       "    }\n",
       "</style>\n",
       "<table border=\"1\" class=\"dataframe\">\n",
       "  <thead>\n",
       "    <tr style=\"text-align: right;\">\n",
       "      <th></th>\n",
       "      <th>voiceID</th>\n",
       "      <th>meanF0Hz</th>\n",
       "    </tr>\n",
       "  </thead>\n",
       "  <tbody>\n",
       "    <tr>\n",
       "      <th>0</th>\n",
       "      <td>../NellesenSound\\Nellesen_16_seg_00000000.wav</td>\n",
       "      <td>138.03211589085302</td>\n",
       "    </tr>\n",
       "    <tr>\n",
       "      <th>1</th>\n",
       "      <td>../NellesenSound\\Nellesen_16_seg_00000001.wav</td>\n",
       "      <td>140.03268783183862</td>\n",
       "    </tr>\n",
       "  </tbody>\n",
       "</table>\n",
       "</div>"
      ],
      "text/plain": [
       "                                         voiceID            meanF0Hz\n",
       "0  ../NellesenSound\\Nellesen_16_seg_00000000.wav  138.03211589085302\n",
       "1  ../NellesenSound\\Nellesen_16_seg_00000001.wav  140.03268783183862"
      ]
     },
     "execution_count": 20,
     "metadata": {},
     "output_type": "execute_result"
    }
   ],
   "source": [
    "df_f0.head(2)"
   ]
  },
  {
   "cell_type": "markdown",
   "id": "4238e548",
   "metadata": {},
   "source": [
    "Diese Funktion normalisiert den Dataframe ähnlich wie oben bereits geschehen. Hier werden im Unterschied zu oben die Spalten umbenannt (voiceID -> file)."
   ]
  },
  {
   "cell_type": "code",
   "execution_count": 21,
   "id": "600cd6e3",
   "metadata": {},
   "outputs": [],
   "source": [
    "def norm_df(df):\n",
    "    df = df.rename(columns={'voiceID' : 'file'})\n",
    "    df = df.set_index('file')\n",
    "    df.index = df.index.to_series().apply(lambda x: os.path.basename(x))\n",
    "    return df"
   ]
  },
  {
   "cell_type": "code",
   "execution_count": 22,
   "id": "f57a0ec3",
   "metadata": {},
   "outputs": [],
   "source": [
    "df_f0 = norm_df(df_f0)"
   ]
  },
  {
   "cell_type": "code",
   "execution_count": 23,
   "id": "31961ed0",
   "metadata": {},
   "outputs": [
    {
     "data": {
      "text/html": [
       "<div>\n",
       "<style scoped>\n",
       "    .dataframe tbody tr th:only-of-type {\n",
       "        vertical-align: middle;\n",
       "    }\n",
       "\n",
       "    .dataframe tbody tr th {\n",
       "        vertical-align: top;\n",
       "    }\n",
       "\n",
       "    .dataframe thead th {\n",
       "        text-align: right;\n",
       "    }\n",
       "</style>\n",
       "<table border=\"1\" class=\"dataframe\">\n",
       "  <thead>\n",
       "    <tr style=\"text-align: right;\">\n",
       "      <th></th>\n",
       "      <th>meanF0Hz</th>\n",
       "    </tr>\n",
       "    <tr>\n",
       "      <th>file</th>\n",
       "      <th></th>\n",
       "    </tr>\n",
       "  </thead>\n",
       "  <tbody>\n",
       "    <tr>\n",
       "      <th>Nellesen_16_seg_00000000.wav</th>\n",
       "      <td>138.03211589085302</td>\n",
       "    </tr>\n",
       "    <tr>\n",
       "      <th>Nellesen_16_seg_00000001.wav</th>\n",
       "      <td>140.03268783183862</td>\n",
       "    </tr>\n",
       "  </tbody>\n",
       "</table>\n",
       "</div>"
      ],
      "text/plain": [
       "                                        meanF0Hz\n",
       "file                                            \n",
       "Nellesen_16_seg_00000000.wav  138.03211589085302\n",
       "Nellesen_16_seg_00000001.wav  140.03268783183862"
      ]
     },
     "execution_count": 23,
     "metadata": {},
     "output_type": "execute_result"
    }
   ],
   "source": [
    "df_f0.head(2)"
   ]
  },
  {
   "cell_type": "markdown",
   "id": "097ccec5",
   "metadata": {},
   "source": [
    "Verbindet die beiden Dataframes miteinander. Das funktioniert nur, weil vorher VoiceID zu file umbenannt wurde."
   ]
  },
  {
   "cell_type": "code",
   "execution_count": 24,
   "id": "4071a943",
   "metadata": {},
   "outputs": [],
   "source": [
    "df = df.join(df_f0)"
   ]
  },
  {
   "cell_type": "markdown",
   "id": "df34c10c",
   "metadata": {},
   "source": [
    "Ändert den Datentypen zu Fließkommazahl."
   ]
  },
  {
   "cell_type": "code",
   "execution_count": 25,
   "id": "b1b6534a",
   "metadata": {},
   "outputs": [],
   "source": [
    "df['meanF0Hz'] = df_f0['meanF0Hz'].astype(float)"
   ]
  },
  {
   "cell_type": "markdown",
   "id": "ce756467",
   "metadata": {},
   "source": [
    "Plottet die Grundfrequenz auf der Y-Achse und die Valence auf der X-Achse in einem dunklen blau."
   ]
  },
  {
   "cell_type": "code",
   "execution_count": 26,
   "id": "9d25e549",
   "metadata": {},
   "outputs": [
    {
     "data": {
      "text/plain": [
       "<AxesSubplot:xlabel='valence', ylabel='meanF0Hz'>"
      ]
     },
     "execution_count": 26,
     "metadata": {},
     "output_type": "execute_result"
    },
    {
     "data": {
      "image/png": "[encoded data removed]",
      "text/plain": [
       "<Figure size 432x288 with 1 Axes>"
      ]
     },
     "metadata": {},
     "output_type": "display_data"
    }
   ],
   "source": [
    "df.plot.scatter(y='meanF0Hz', x='valence', c='DarkBlue')"
   ]
  },
  {
   "cell_type": "code",
   "execution_count": 27,
   "id": "e175ed0d",
   "metadata": {},
   "outputs": [
    {
     "data": {
      "text/html": [
       "<div>\n",
       "<style scoped>\n",
       "    .dataframe tbody tr th:only-of-type {\n",
       "        vertical-align: middle;\n",
       "    }\n",
       "\n",
       "    .dataframe tbody tr th {\n",
       "        vertical-align: top;\n",
       "    }\n",
       "\n",
       "    .dataframe thead th {\n",
       "        text-align: right;\n",
       "    }\n",
       "</style>\n",
       "<table border=\"1\" class=\"dataframe\">\n",
       "  <thead>\n",
       "    <tr style=\"text-align: right;\">\n",
       "      <th></th>\n",
       "      <th>valence</th>\n",
       "      <th>meanF0Hz</th>\n",
       "    </tr>\n",
       "    <tr>\n",
       "      <th>file</th>\n",
       "      <th></th>\n",
       "      <th></th>\n",
       "    </tr>\n",
       "  </thead>\n",
       "  <tbody>\n",
       "    <tr>\n",
       "      <th>Nellesen_16_seg_00000000.wav</th>\n",
       "      <td>3.0</td>\n",
       "      <td>138.032116</td>\n",
       "    </tr>\n",
       "    <tr>\n",
       "      <th>Nellesen_16_seg_00000001.wav</th>\n",
       "      <td>4.0</td>\n",
       "      <td>140.032688</td>\n",
       "    </tr>\n",
       "  </tbody>\n",
       "</table>\n",
       "</div>"
      ],
      "text/plain": [
       "                              valence    meanF0Hz\n",
       "file                                             \n",
       "Nellesen_16_seg_00000000.wav      3.0  138.032116\n",
       "Nellesen_16_seg_00000001.wav      4.0  140.032688"
      ]
     },
     "execution_count": 27,
     "metadata": {},
     "output_type": "execute_result"
    }
   ],
   "source": [
    "df.head(2)"
   ]
  },
  {
   "cell_type": "markdown",
   "id": "3301dd98",
   "metadata": {},
   "source": [
    "Liest einen neuen Dataframe aus den Feinberg Praat Skripts ein mit anderen Messdaten."
   ]
  },
  {
   "cell_type": "code",
   "execution_count": 28,
   "id": "f70d8b97",
   "metadata": {},
   "outputs": [],
   "source": [
    "measures_df = pd.read_pickle('df_werte.pkl')"
   ]
  },
  {
   "cell_type": "code",
   "execution_count": 29,
   "id": "dfa36e67",
   "metadata": {},
   "outputs": [
    {
     "data": {
      "text/html": [
       "<div>\n",
       "<style scoped>\n",
       "    .dataframe tbody tr th:only-of-type {\n",
       "        vertical-align: middle;\n",
       "    }\n",
       "\n",
       "    .dataframe tbody tr th {\n",
       "        vertical-align: top;\n",
       "    }\n",
       "\n",
       "    .dataframe thead th {\n",
       "        text-align: right;\n",
       "    }\n",
       "</style>\n",
       "<table border=\"1\" class=\"dataframe\">\n",
       "  <thead>\n",
       "    <tr style=\"text-align: right;\">\n",
       "      <th></th>\n",
       "      <th>voiceID</th>\n",
       "      <th>duration</th>\n",
       "      <th>meanF0Hz</th>\n",
       "      <th>stdevF0Hz</th>\n",
       "      <th>HNR</th>\n",
       "      <th>localJitter</th>\n",
       "      <th>localabsoluteJitter</th>\n",
       "      <th>rapJitter</th>\n",
       "      <th>ppq5Jitter</th>\n",
       "      <th>ddpJitter</th>\n",
       "      <th>...</th>\n",
       "      <th>f4_median</th>\n",
       "      <th>JitterPCA</th>\n",
       "      <th>ShimmerPCA</th>\n",
       "      <th>pF</th>\n",
       "      <th>fdisp</th>\n",
       "      <th>avgFormant</th>\n",
       "      <th>mff</th>\n",
       "      <th>fitch_vtl</th>\n",
       "      <th>delta_f</th>\n",
       "      <th>vtl_delta_f</th>\n",
       "    </tr>\n",
       "  </thead>\n",
       "  <tbody>\n",
       "    <tr>\n",
       "      <th>0</th>\n",
       "      <td>../NellesenSound\\Nellesen_16_seg_00000000.wav</td>\n",
       "      <td>1.62</td>\n",
       "      <td>138.032116</td>\n",
       "      <td>9.225841</td>\n",
       "      <td>13.833710</td>\n",
       "      <td>0.021991</td>\n",
       "      <td>0.000160</td>\n",
       "      <td>0.008185</td>\n",
       "      <td>0.011459</td>\n",
       "      <td>0.024556</td>\n",
       "      <td>...</td>\n",
       "      <td>3367.405786</td>\n",
       "      <td>2.913234</td>\n",
       "      <td>0.056890</td>\n",
       "      <td>0.186858</td>\n",
       "      <td>996.951473</td>\n",
       "      <td>1912.929611</td>\n",
       "      <td>1462.971189</td>\n",
       "      <td>19.273052</td>\n",
       "      <td>963.929051</td>\n",
       "      <td>18.154863</td>\n",
       "    </tr>\n",
       "    <tr>\n",
       "      <th>1</th>\n",
       "      <td>../NellesenSound\\Nellesen_16_seg_00000001.wav</td>\n",
       "      <td>5.40</td>\n",
       "      <td>139.994580</td>\n",
       "      <td>25.988065</td>\n",
       "      <td>12.641527</td>\n",
       "      <td>0.024912</td>\n",
       "      <td>0.000178</td>\n",
       "      <td>0.010345</td>\n",
       "      <td>0.012082</td>\n",
       "      <td>0.031035</td>\n",
       "      <td>...</td>\n",
       "      <td>3343.278039</td>\n",
       "      <td>-0.368369</td>\n",
       "      <td>1.641947</td>\n",
       "      <td>0.159001</td>\n",
       "      <td>971.514450</td>\n",
       "      <td>1882.327844</td>\n",
       "      <td>1463.715658</td>\n",
       "      <td>19.167467</td>\n",
       "      <td>952.489198</td>\n",
       "      <td>18.372912</td>\n",
       "    </tr>\n",
       "  </tbody>\n",
       "</table>\n",
       "<p>2 rows × 33 columns</p>\n",
       "</div>"
      ],
      "text/plain": [
       "                                         voiceID  duration    meanF0Hz  \\\n",
       "0  ../NellesenSound\\Nellesen_16_seg_00000000.wav      1.62  138.032116   \n",
       "1  ../NellesenSound\\Nellesen_16_seg_00000001.wav      5.40  139.994580   \n",
       "\n",
       "   stdevF0Hz        HNR  localJitter  localabsoluteJitter  rapJitter  \\\n",
       "0   9.225841  13.833710     0.021991             0.000160   0.008185   \n",
       "1  25.988065  12.641527     0.024912             0.000178   0.010345   \n",
       "\n",
       "   ppq5Jitter  ddpJitter  ...    f4_median  JitterPCA  ShimmerPCA        pF  \\\n",
       "0    0.011459   0.024556  ...  3367.405786   2.913234    0.056890  0.186858   \n",
       "1    0.012082   0.031035  ...  3343.278039  -0.368369    1.641947  0.159001   \n",
       "\n",
       "        fdisp   avgFormant          mff  fitch_vtl     delta_f  vtl_delta_f  \n",
       "0  996.951473  1912.929611  1462.971189  19.273052  963.929051    18.154863  \n",
       "1  971.514450  1882.327844  1463.715658  19.167467  952.489198    18.372912  \n",
       "\n",
       "[2 rows x 33 columns]"
      ]
     },
     "execution_count": 29,
     "metadata": {},
     "output_type": "execute_result"
    }
   ],
   "source": [
    "measures_df.head(2)\n"
   ]
  },
  {
   "cell_type": "markdown",
   "id": "348ac8e5",
   "metadata": {},
   "source": [
    "Entfernt die Grundfrequenz, da diese bereits aus dem vorherigen Dataframe enthalten ist."
   ]
  },
  {
   "cell_type": "code",
   "execution_count": 30,
   "id": "68989afa",
   "metadata": {},
   "outputs": [],
   "source": [
    "df = df.drop(columns=['meanF0Hz'])"
   ]
  },
  {
   "cell_type": "markdown",
   "id": "5281b154",
   "metadata": {},
   "source": [
    "Setzt Sprecher und Geschlecht in allen Zeilen."
   ]
  },
  {
   "cell_type": "code",
   "execution_count": 31,
   "id": "5aa031b3",
   "metadata": {},
   "outputs": [],
   "source": [
    "df['speaker'] = 'jannis'"
   ]
  },
  {
   "cell_type": "code",
   "execution_count": 32,
   "id": "023b9214",
   "metadata": {},
   "outputs": [],
   "source": [
    "df['sex'] = 'male'"
   ]
  },
  {
   "cell_type": "code",
   "execution_count": 33,
   "id": "113a81b8",
   "metadata": {},
   "outputs": [
    {
     "data": {
      "text/html": [
       "<div>\n",
       "<style scoped>\n",
       "    .dataframe tbody tr th:only-of-type {\n",
       "        vertical-align: middle;\n",
       "    }\n",
       "\n",
       "    .dataframe tbody tr th {\n",
       "        vertical-align: top;\n",
       "    }\n",
       "\n",
       "    .dataframe thead th {\n",
       "        text-align: right;\n",
       "    }\n",
       "</style>\n",
       "<table border=\"1\" class=\"dataframe\">\n",
       "  <thead>\n",
       "    <tr style=\"text-align: right;\">\n",
       "      <th></th>\n",
       "      <th>valence</th>\n",
       "      <th>speaker</th>\n",
       "      <th>sex</th>\n",
       "    </tr>\n",
       "    <tr>\n",
       "      <th>file</th>\n",
       "      <th></th>\n",
       "      <th></th>\n",
       "      <th></th>\n",
       "    </tr>\n",
       "  </thead>\n",
       "  <tbody>\n",
       "    <tr>\n",
       "      <th>Nellesen_16_seg_00000000.wav</th>\n",
       "      <td>3.0</td>\n",
       "      <td>jannis</td>\n",
       "      <td>male</td>\n",
       "    </tr>\n",
       "  </tbody>\n",
       "</table>\n",
       "</div>"
      ],
      "text/plain": [
       "                              valence speaker   sex\n",
       "file                                               \n",
       "Nellesen_16_seg_00000000.wav      3.0  jannis  male"
      ]
     },
     "execution_count": 33,
     "metadata": {},
     "output_type": "execute_result"
    }
   ],
   "source": [
    "df.head(1)"
   ]
  },
  {
   "cell_type": "markdown",
   "id": "cfd46e2f",
   "metadata": {},
   "source": [
    "Benennt VoiceID wieder in file um, damit joinen möglich wird."
   ]
  },
  {
   "cell_type": "code",
   "execution_count": 34,
   "id": "01ff3618",
   "metadata": {},
   "outputs": [],
   "source": [
    "measures_df = norm_df(measures_df)"
   ]
  },
  {
   "cell_type": "code",
   "execution_count": 35,
   "id": "84d0c713",
   "metadata": {},
   "outputs": [],
   "source": [
    "df_all = df.join(measures_df)"
   ]
  },
  {
   "cell_type": "code",
   "execution_count": 36,
   "id": "83a787da",
   "metadata": {},
   "outputs": [
    {
     "data": {
      "text/html": [
       "<div>\n",
       "<style scoped>\n",
       "    .dataframe tbody tr th:only-of-type {\n",
       "        vertical-align: middle;\n",
       "    }\n",
       "\n",
       "    .dataframe tbody tr th {\n",
       "        vertical-align: top;\n",
       "    }\n",
       "\n",
       "    .dataframe thead th {\n",
       "        text-align: right;\n",
       "    }\n",
       "</style>\n",
       "<table border=\"1\" class=\"dataframe\">\n",
       "  <thead>\n",
       "    <tr style=\"text-align: right;\">\n",
       "      <th></th>\n",
       "      <th>valence</th>\n",
       "      <th>speaker</th>\n",
       "      <th>sex</th>\n",
       "      <th>duration</th>\n",
       "      <th>meanF0Hz</th>\n",
       "      <th>stdevF0Hz</th>\n",
       "      <th>HNR</th>\n",
       "      <th>localJitter</th>\n",
       "      <th>localabsoluteJitter</th>\n",
       "      <th>rapJitter</th>\n",
       "      <th>...</th>\n",
       "      <th>f4_median</th>\n",
       "      <th>JitterPCA</th>\n",
       "      <th>ShimmerPCA</th>\n",
       "      <th>pF</th>\n",
       "      <th>fdisp</th>\n",
       "      <th>avgFormant</th>\n",
       "      <th>mff</th>\n",
       "      <th>fitch_vtl</th>\n",
       "      <th>delta_f</th>\n",
       "      <th>vtl_delta_f</th>\n",
       "    </tr>\n",
       "    <tr>\n",
       "      <th>file</th>\n",
       "      <th></th>\n",
       "      <th></th>\n",
       "      <th></th>\n",
       "      <th></th>\n",
       "      <th></th>\n",
       "      <th></th>\n",
       "      <th></th>\n",
       "      <th></th>\n",
       "      <th></th>\n",
       "      <th></th>\n",
       "      <th></th>\n",
       "      <th></th>\n",
       "      <th></th>\n",
       "      <th></th>\n",
       "      <th></th>\n",
       "      <th></th>\n",
       "      <th></th>\n",
       "      <th></th>\n",
       "      <th></th>\n",
       "      <th></th>\n",
       "      <th></th>\n",
       "    </tr>\n",
       "  </thead>\n",
       "  <tbody>\n",
       "    <tr>\n",
       "      <th>Nellesen_16_seg_00000000.wav</th>\n",
       "      <td>3.0</td>\n",
       "      <td>jannis</td>\n",
       "      <td>male</td>\n",
       "      <td>1.62</td>\n",
       "      <td>138.032116</td>\n",
       "      <td>9.225841</td>\n",
       "      <td>13.833710</td>\n",
       "      <td>0.021991</td>\n",
       "      <td>0.000160</td>\n",
       "      <td>0.008185</td>\n",
       "      <td>...</td>\n",
       "      <td>3367.405786</td>\n",
       "      <td>2.913234</td>\n",
       "      <td>0.056890</td>\n",
       "      <td>0.186858</td>\n",
       "      <td>996.951473</td>\n",
       "      <td>1912.929611</td>\n",
       "      <td>1462.971189</td>\n",
       "      <td>19.273052</td>\n",
       "      <td>963.929051</td>\n",
       "      <td>18.154863</td>\n",
       "    </tr>\n",
       "    <tr>\n",
       "      <th>Nellesen_16_seg_00000001.wav</th>\n",
       "      <td>4.0</td>\n",
       "      <td>jannis</td>\n",
       "      <td>male</td>\n",
       "      <td>5.40</td>\n",
       "      <td>139.994580</td>\n",
       "      <td>25.988065</td>\n",
       "      <td>12.641527</td>\n",
       "      <td>0.024912</td>\n",
       "      <td>0.000178</td>\n",
       "      <td>0.010345</td>\n",
       "      <td>...</td>\n",
       "      <td>3343.278039</td>\n",
       "      <td>-0.368369</td>\n",
       "      <td>1.641947</td>\n",
       "      <td>0.159001</td>\n",
       "      <td>971.514450</td>\n",
       "      <td>1882.327844</td>\n",
       "      <td>1463.715658</td>\n",
       "      <td>19.167467</td>\n",
       "      <td>952.489198</td>\n",
       "      <td>18.372912</td>\n",
       "    </tr>\n",
       "    <tr>\n",
       "      <th>Nellesen_16_seg_00000002.wav</th>\n",
       "      <td>4.0</td>\n",
       "      <td>jannis</td>\n",
       "      <td>male</td>\n",
       "      <td>2.70</td>\n",
       "      <td>142.104801</td>\n",
       "      <td>19.648685</td>\n",
       "      <td>12.709082</td>\n",
       "      <td>0.025809</td>\n",
       "      <td>0.000182</td>\n",
       "      <td>0.011067</td>\n",
       "      <td>...</td>\n",
       "      <td>3336.445622</td>\n",
       "      <td>-0.168193</td>\n",
       "      <td>1.087785</td>\n",
       "      <td>0.583368</td>\n",
       "      <td>982.493825</td>\n",
       "      <td>1935.132758</td>\n",
       "      <td>1480.663155</td>\n",
       "      <td>19.024088</td>\n",
       "      <td>974.943130</td>\n",
       "      <td>17.949765</td>\n",
       "    </tr>\n",
       "    <tr>\n",
       "      <th>Nellesen_16_seg_00000003.wav</th>\n",
       "      <td>4.0</td>\n",
       "      <td>jannis</td>\n",
       "      <td>male</td>\n",
       "      <td>2.42</td>\n",
       "      <td>144.032920</td>\n",
       "      <td>34.096210</td>\n",
       "      <td>13.745294</td>\n",
       "      <td>0.031511</td>\n",
       "      <td>0.000220</td>\n",
       "      <td>0.014398</td>\n",
       "      <td>...</td>\n",
       "      <td>3292.804508</td>\n",
       "      <td>-1.207391</td>\n",
       "      <td>-2.076215</td>\n",
       "      <td>0.538350</td>\n",
       "      <td>961.897631</td>\n",
       "      <td>1926.418672</td>\n",
       "      <td>1496.766625</td>\n",
       "      <td>18.780848</td>\n",
       "      <td>964.624205</td>\n",
       "      <td>18.141780</td>\n",
       "    </tr>\n",
       "    <tr>\n",
       "      <th>Nellesen_16_seg_00000004.wav</th>\n",
       "      <td>2.0</td>\n",
       "      <td>jannis</td>\n",
       "      <td>male</td>\n",
       "      <td>5.68</td>\n",
       "      <td>135.085800</td>\n",
       "      <td>12.895143</td>\n",
       "      <td>13.356369</td>\n",
       "      <td>0.022358</td>\n",
       "      <td>0.000166</td>\n",
       "      <td>0.010386</td>\n",
       "      <td>...</td>\n",
       "      <td>3295.044219</td>\n",
       "      <td>0.820913</td>\n",
       "      <td>0.451978</td>\n",
       "      <td>0.165721</td>\n",
       "      <td>989.821113</td>\n",
       "      <td>1921.269925</td>\n",
       "      <td>1423.011337</td>\n",
       "      <td>20.035492</td>\n",
       "      <td>970.433594</td>\n",
       "      <td>18.033176</td>\n",
       "    </tr>\n",
       "  </tbody>\n",
       "</table>\n",
       "<p>5 rows × 35 columns</p>\n",
       "</div>"
      ],
      "text/plain": [
       "                              valence speaker   sex  duration    meanF0Hz  \\\n",
       "file                                                                        \n",
       "Nellesen_16_seg_00000000.wav      3.0  jannis  male      1.62  138.032116   \n",
       "Nellesen_16_seg_00000001.wav      4.0  jannis  male      5.40  139.994580   \n",
       "Nellesen_16_seg_00000002.wav      4.0  jannis  male      2.70  142.104801   \n",
       "Nellesen_16_seg_00000003.wav      4.0  jannis  male      2.42  144.032920   \n",
       "Nellesen_16_seg_00000004.wav      2.0  jannis  male      5.68  135.085800   \n",
       "\n",
       "                              stdevF0Hz        HNR  localJitter  \\\n",
       "file                                                              \n",
       "Nellesen_16_seg_00000000.wav   9.225841  13.833710     0.021991   \n",
       "Nellesen_16_seg_00000001.wav  25.988065  12.641527     0.024912   \n",
       "Nellesen_16_seg_00000002.wav  19.648685  12.709082     0.025809   \n",
       "Nellesen_16_seg_00000003.wav  34.096210  13.745294     0.031511   \n",
       "Nellesen_16_seg_00000004.wav  12.895143  13.356369     0.022358   \n",
       "\n",
       "                              localabsoluteJitter  rapJitter  ...  \\\n",
       "file                                                          ...   \n",
       "Nellesen_16_seg_00000000.wav             0.000160   0.008185  ...   \n",
       "Nellesen_16_seg_00000001.wav             0.000178   0.010345  ...   \n",
       "Nellesen_16_seg_00000002.wav             0.000182   0.011067  ...   \n",
       "Nellesen_16_seg_00000003.wav             0.000220   0.014398  ...   \n",
       "Nellesen_16_seg_00000004.wav             0.000166   0.010386  ...   \n",
       "\n",
       "                                f4_median  JitterPCA  ShimmerPCA        pF  \\\n",
       "file                                                                         \n",
       "Nellesen_16_seg_00000000.wav  3367.405786   2.913234    0.056890  0.186858   \n",
       "Nellesen_16_seg_00000001.wav  3343.278039  -0.368369    1.641947  0.159001   \n",
       "Nellesen_16_seg_00000002.wav  3336.445622  -0.168193    1.087785  0.583368   \n",
       "Nellesen_16_seg_00000003.wav  3292.804508  -1.207391   -2.076215  0.538350   \n",
       "Nellesen_16_seg_00000004.wav  3295.044219   0.820913    0.451978  0.165721   \n",
       "\n",
       "                                   fdisp   avgFormant          mff  fitch_vtl  \\\n",
       "file                                                                            \n",
       "Nellesen_16_seg_00000000.wav  996.951473  1912.929611  1462.971189  19.273052   \n",
       "Nellesen_16_seg_00000001.wav  971.514450  1882.327844  1463.715658  19.167467   \n",
       "Nellesen_16_seg_00000002.wav  982.493825  1935.132758  1480.663155  19.024088   \n",
       "Nellesen_16_seg_00000003.wav  961.897631  1926.418672  1496.766625  18.780848   \n",
       "Nellesen_16_seg_00000004.wav  989.821113  1921.269925  1423.011337  20.035492   \n",
       "\n",
       "                                 delta_f  vtl_delta_f  \n",
       "file                                                   \n",
       "Nellesen_16_seg_00000000.wav  963.929051    18.154863  \n",
       "Nellesen_16_seg_00000001.wav  952.489198    18.372912  \n",
       "Nellesen_16_seg_00000002.wav  974.943130    17.949765  \n",
       "Nellesen_16_seg_00000003.wav  964.624205    18.141780  \n",
       "Nellesen_16_seg_00000004.wav  970.433594    18.033176  \n",
       "\n",
       "[5 rows x 35 columns]"
      ]
     },
     "execution_count": 36,
     "metadata": {},
     "output_type": "execute_result"
    }
   ],
   "source": [
    "df_all.head(5)"
   ]
  },
  {
   "cell_type": "markdown",
   "id": "02c18419",
   "metadata": {},
   "source": [
    "Generiert eine neue pickle-Datei mit den vereinten Daten aus den unterschiedlichen Dataframes."
   ]
  },
  {
   "cell_type": "code",
   "execution_count": 37,
   "id": "96c51b24",
   "metadata": {},
   "outputs": [],
   "source": [
    "df_all.to_pickle('nellesen_df.pkl')"
   ]
  },
  {
   "cell_type": "markdown",
   "id": "90b2528d",
   "metadata": {},
   "source": [
    "Ignoriert die ersten drei Spalten (Valence, Speaker, Sex)."
   ]
  },
  {
   "cell_type": "code",
   "execution_count": 38,
   "id": "45dc4f2a",
   "metadata": {},
   "outputs": [
    {
     "data": {
      "text/html": [
       "<div>\n",
       "<style scoped>\n",
       "    .dataframe tbody tr th:only-of-type {\n",
       "        vertical-align: middle;\n",
       "    }\n",
       "\n",
       "    .dataframe tbody tr th {\n",
       "        vertical-align: top;\n",
       "    }\n",
       "\n",
       "    .dataframe thead th {\n",
       "        text-align: right;\n",
       "    }\n",
       "</style>\n",
       "<table border=\"1\" class=\"dataframe\">\n",
       "  <thead>\n",
       "    <tr style=\"text-align: right;\">\n",
       "      <th></th>\n",
       "      <th>duration</th>\n",
       "      <th>meanF0Hz</th>\n",
       "      <th>stdevF0Hz</th>\n",
       "      <th>HNR</th>\n",
       "      <th>localJitter</th>\n",
       "      <th>localabsoluteJitter</th>\n",
       "      <th>rapJitter</th>\n",
       "      <th>ppq5Jitter</th>\n",
       "      <th>ddpJitter</th>\n",
       "      <th>localShimmer</th>\n",
       "      <th>...</th>\n",
       "      <th>f4_median</th>\n",
       "      <th>JitterPCA</th>\n",
       "      <th>ShimmerPCA</th>\n",
       "      <th>pF</th>\n",
       "      <th>fdisp</th>\n",
       "      <th>avgFormant</th>\n",
       "      <th>mff</th>\n",
       "      <th>fitch_vtl</th>\n",
       "      <th>delta_f</th>\n",
       "      <th>vtl_delta_f</th>\n",
       "    </tr>\n",
       "    <tr>\n",
       "      <th>file</th>\n",
       "      <th></th>\n",
       "      <th></th>\n",
       "      <th></th>\n",
       "      <th></th>\n",
       "      <th></th>\n",
       "      <th></th>\n",
       "      <th></th>\n",
       "      <th></th>\n",
       "      <th></th>\n",
       "      <th></th>\n",
       "      <th></th>\n",
       "      <th></th>\n",
       "      <th></th>\n",
       "      <th></th>\n",
       "      <th></th>\n",
       "      <th></th>\n",
       "      <th></th>\n",
       "      <th></th>\n",
       "      <th></th>\n",
       "      <th></th>\n",
       "      <th></th>\n",
       "    </tr>\n",
       "  </thead>\n",
       "  <tbody>\n",
       "    <tr>\n",
       "      <th>Nellesen_16_seg_00000000.wav</th>\n",
       "      <td>1.62</td>\n",
       "      <td>138.032116</td>\n",
       "      <td>9.225841</td>\n",
       "      <td>13.833710</td>\n",
       "      <td>0.021991</td>\n",
       "      <td>0.000160</td>\n",
       "      <td>0.008185</td>\n",
       "      <td>0.011459</td>\n",
       "      <td>0.024556</td>\n",
       "      <td>0.089212</td>\n",
       "      <td>...</td>\n",
       "      <td>3367.405786</td>\n",
       "      <td>2.913234</td>\n",
       "      <td>0.056890</td>\n",
       "      <td>0.186858</td>\n",
       "      <td>996.951473</td>\n",
       "      <td>1912.929611</td>\n",
       "      <td>1462.971189</td>\n",
       "      <td>19.273052</td>\n",
       "      <td>963.929051</td>\n",
       "      <td>18.154863</td>\n",
       "    </tr>\n",
       "    <tr>\n",
       "      <th>Nellesen_16_seg_00000001.wav</th>\n",
       "      <td>5.40</td>\n",
       "      <td>139.994580</td>\n",
       "      <td>25.988065</td>\n",
       "      <td>12.641527</td>\n",
       "      <td>0.024912</td>\n",
       "      <td>0.000178</td>\n",
       "      <td>0.010345</td>\n",
       "      <td>0.012082</td>\n",
       "      <td>0.031035</td>\n",
       "      <td>0.113241</td>\n",
       "      <td>...</td>\n",
       "      <td>3343.278039</td>\n",
       "      <td>-0.368369</td>\n",
       "      <td>1.641947</td>\n",
       "      <td>0.159001</td>\n",
       "      <td>971.514450</td>\n",
       "      <td>1882.327844</td>\n",
       "      <td>1463.715658</td>\n",
       "      <td>19.167467</td>\n",
       "      <td>952.489198</td>\n",
       "      <td>18.372912</td>\n",
       "    </tr>\n",
       "    <tr>\n",
       "      <th>Nellesen_16_seg_00000002.wav</th>\n",
       "      <td>2.70</td>\n",
       "      <td>142.104801</td>\n",
       "      <td>19.648685</td>\n",
       "      <td>12.709082</td>\n",
       "      <td>0.025809</td>\n",
       "      <td>0.000182</td>\n",
       "      <td>0.011067</td>\n",
       "      <td>0.012556</td>\n",
       "      <td>0.033200</td>\n",
       "      <td>0.105251</td>\n",
       "      <td>...</td>\n",
       "      <td>3336.445622</td>\n",
       "      <td>-0.168193</td>\n",
       "      <td>1.087785</td>\n",
       "      <td>0.583368</td>\n",
       "      <td>982.493825</td>\n",
       "      <td>1935.132758</td>\n",
       "      <td>1480.663155</td>\n",
       "      <td>19.024088</td>\n",
       "      <td>974.943130</td>\n",
       "      <td>17.949765</td>\n",
       "    </tr>\n",
       "    <tr>\n",
       "      <th>Nellesen_16_seg_00000003.wav</th>\n",
       "      <td>2.42</td>\n",
       "      <td>144.032920</td>\n",
       "      <td>34.096210</td>\n",
       "      <td>13.745294</td>\n",
       "      <td>0.031511</td>\n",
       "      <td>0.000220</td>\n",
       "      <td>0.014398</td>\n",
       "      <td>0.016121</td>\n",
       "      <td>0.043194</td>\n",
       "      <td>0.102900</td>\n",
       "      <td>...</td>\n",
       "      <td>3292.804508</td>\n",
       "      <td>-1.207391</td>\n",
       "      <td>-2.076215</td>\n",
       "      <td>0.538350</td>\n",
       "      <td>961.897631</td>\n",
       "      <td>1926.418672</td>\n",
       "      <td>1496.766625</td>\n",
       "      <td>18.780848</td>\n",
       "      <td>964.624205</td>\n",
       "      <td>18.141780</td>\n",
       "    </tr>\n",
       "    <tr>\n",
       "      <th>Nellesen_16_seg_00000004.wav</th>\n",
       "      <td>5.68</td>\n",
       "      <td>135.085800</td>\n",
       "      <td>12.895143</td>\n",
       "      <td>13.356369</td>\n",
       "      <td>0.022358</td>\n",
       "      <td>0.000166</td>\n",
       "      <td>0.010386</td>\n",
       "      <td>0.012589</td>\n",
       "      <td>0.031157</td>\n",
       "      <td>0.101330</td>\n",
       "      <td>...</td>\n",
       "      <td>3295.044219</td>\n",
       "      <td>0.820913</td>\n",
       "      <td>0.451978</td>\n",
       "      <td>0.165721</td>\n",
       "      <td>989.821113</td>\n",
       "      <td>1921.269925</td>\n",
       "      <td>1423.011337</td>\n",
       "      <td>20.035492</td>\n",
       "      <td>970.433594</td>\n",
       "      <td>18.033176</td>\n",
       "    </tr>\n",
       "    <tr>\n",
       "      <th>Nellesen_16_seg_00000005.wav</th>\n",
       "      <td>1.58</td>\n",
       "      <td>152.269223</td>\n",
       "      <td>21.689414</td>\n",
       "      <td>13.382492</td>\n",
       "      <td>0.034018</td>\n",
       "      <td>0.000226</td>\n",
       "      <td>0.015145</td>\n",
       "      <td>0.016944</td>\n",
       "      <td>0.045434</td>\n",
       "      <td>0.120076</td>\n",
       "      <td>...</td>\n",
       "      <td>3166.470743</td>\n",
       "      <td>-2.812184</td>\n",
       "      <td>-0.501609</td>\n",
       "      <td>-0.656489</td>\n",
       "      <td>940.745146</td>\n",
       "      <td>1835.217072</td>\n",
       "      <td>1381.157749</td>\n",
       "      <td>20.477515</td>\n",
       "      <td>928.036536</td>\n",
       "      <td>18.857016</td>\n",
       "    </tr>\n",
       "    <tr>\n",
       "      <th>Nellesen_16_seg_00000006.wav</th>\n",
       "      <td>2.40</td>\n",
       "      <td>137.176334</td>\n",
       "      <td>10.225154</td>\n",
       "      <td>12.623347</td>\n",
       "      <td>0.028900</td>\n",
       "      <td>0.000212</td>\n",
       "      <td>0.014266</td>\n",
       "      <td>0.016103</td>\n",
       "      <td>0.042797</td>\n",
       "      <td>0.097977</td>\n",
       "      <td>...</td>\n",
       "      <td>3074.204412</td>\n",
       "      <td>-1.335264</td>\n",
       "      <td>-1.365190</td>\n",
       "      <td>-0.517680</td>\n",
       "      <td>892.817520</td>\n",
       "      <td>1821.921191</td>\n",
       "      <td>1410.204786</td>\n",
       "      <td>19.940971</td>\n",
       "      <td>915.238977</td>\n",
       "      <td>19.120689</td>\n",
       "    </tr>\n",
       "    <tr>\n",
       "      <th>Nellesen_16_seg_00000007.wav</th>\n",
       "      <td>2.12</td>\n",
       "      <td>119.233807</td>\n",
       "      <td>11.562480</td>\n",
       "      <td>11.712906</td>\n",
       "      <td>0.030083</td>\n",
       "      <td>0.000252</td>\n",
       "      <td>0.013831</td>\n",
       "      <td>0.016940</td>\n",
       "      <td>0.041492</td>\n",
       "      <td>0.134628</td>\n",
       "      <td>...</td>\n",
       "      <td>3557.946932</td>\n",
       "      <td>-3.896559</td>\n",
       "      <td>1.081428</td>\n",
       "      <td>0.222688</td>\n",
       "      <td>1067.971012</td>\n",
       "      <td>1919.408443</td>\n",
       "      <td>1411.736302</td>\n",
       "      <td>20.063288</td>\n",
       "      <td>989.857022</td>\n",
       "      <td>17.679321</td>\n",
       "    </tr>\n",
       "    <tr>\n",
       "      <th>Nellesen_16_seg_00000008.wav</th>\n",
       "      <td>3.42</td>\n",
       "      <td>137.733800</td>\n",
       "      <td>24.947202</td>\n",
       "      <td>12.093408</td>\n",
       "      <td>0.027500</td>\n",
       "      <td>0.000200</td>\n",
       "      <td>0.012684</td>\n",
       "      <td>0.014822</td>\n",
       "      <td>0.038053</td>\n",
       "      <td>0.105084</td>\n",
       "      <td>...</td>\n",
       "      <td>3271.476628</td>\n",
       "      <td>-0.800444</td>\n",
       "      <td>-0.134976</td>\n",
       "      <td>0.520724</td>\n",
       "      <td>966.087242</td>\n",
       "      <td>1938.046958</td>\n",
       "      <td>1483.639120</td>\n",
       "      <td>19.047930</td>\n",
       "      <td>969.109353</td>\n",
       "      <td>18.057818</td>\n",
       "    </tr>\n",
       "    <tr>\n",
       "      <th>Nellesen_16_seg_00000009.wav</th>\n",
       "      <td>4.68</td>\n",
       "      <td>137.981979</td>\n",
       "      <td>35.036139</td>\n",
       "      <td>13.087981</td>\n",
       "      <td>0.027427</td>\n",
       "      <td>0.000200</td>\n",
       "      <td>0.013517</td>\n",
       "      <td>0.016990</td>\n",
       "      <td>0.040550</td>\n",
       "      <td>0.106978</td>\n",
       "      <td>...</td>\n",
       "      <td>3368.801322</td>\n",
       "      <td>-2.033474</td>\n",
       "      <td>0.017660</td>\n",
       "      <td>0.033256</td>\n",
       "      <td>998.959320</td>\n",
       "      <td>1885.871730</td>\n",
       "      <td>1409.069464</td>\n",
       "      <td>20.050386</td>\n",
       "      <td>965.099373</td>\n",
       "      <td>18.132848</td>\n",
       "    </tr>\n",
       "    <tr>\n",
       "      <th>Nellesen_16_seg_00000010.wav</th>\n",
       "      <td>1.56</td>\n",
       "      <td>114.001039</td>\n",
       "      <td>9.977719</td>\n",
       "      <td>10.774613</td>\n",
       "      <td>0.031844</td>\n",
       "      <td>0.000279</td>\n",
       "      <td>0.015620</td>\n",
       "      <td>0.016094</td>\n",
       "      <td>0.046861</td>\n",
       "      <td>0.113265</td>\n",
       "      <td>...</td>\n",
       "      <td>3334.050787</td>\n",
       "      <td>-3.073877</td>\n",
       "      <td>-1.522938</td>\n",
       "      <td>-0.402962</td>\n",
       "      <td>992.588443</td>\n",
       "      <td>1854.406445</td>\n",
       "      <td>1381.116322</td>\n",
       "      <td>20.465333</td>\n",
       "      <td>949.634553</td>\n",
       "      <td>18.428142</td>\n",
       "    </tr>\n",
       "    <tr>\n",
       "      <th>Nellesen_16_seg_00000011.wav</th>\n",
       "      <td>2.26</td>\n",
       "      <td>142.704439</td>\n",
       "      <td>13.726874</td>\n",
       "      <td>10.985380</td>\n",
       "      <td>0.035713</td>\n",
       "      <td>0.000252</td>\n",
       "      <td>0.015783</td>\n",
       "      <td>0.020937</td>\n",
       "      <td>0.047350</td>\n",
       "      <td>0.118402</td>\n",
       "      <td>...</td>\n",
       "      <td>3361.659626</td>\n",
       "      <td>-5.434625</td>\n",
       "      <td>-0.562705</td>\n",
       "      <td>0.918992</td>\n",
       "      <td>977.032868</td>\n",
       "      <td>1948.411167</td>\n",
       "      <td>1515.059138</td>\n",
       "      <td>18.530083</td>\n",
       "      <td>980.290856</td>\n",
       "      <td>17.851845</td>\n",
       "    </tr>\n",
       "    <tr>\n",
       "      <th>Nellesen_16_seg_00000012.wav</th>\n",
       "      <td>5.99</td>\n",
       "      <td>137.003068</td>\n",
       "      <td>23.831739</td>\n",
       "      <td>12.501902</td>\n",
       "      <td>0.025711</td>\n",
       "      <td>0.000187</td>\n",
       "      <td>0.011742</td>\n",
       "      <td>0.014016</td>\n",
       "      <td>0.035225</td>\n",
       "      <td>0.099730</td>\n",
       "      <td>...</td>\n",
       "      <td>3244.312759</td>\n",
       "      <td>0.313581</td>\n",
       "      <td>-0.471466</td>\n",
       "      <td>0.357608</td>\n",
       "      <td>933.861872</td>\n",
       "      <td>1894.799395</td>\n",
       "      <td>1498.644742</td>\n",
       "      <td>18.704589</td>\n",
       "      <td>946.930178</td>\n",
       "      <td>18.480771</td>\n",
       "    </tr>\n",
       "    <tr>\n",
       "      <th>Nellesen_16_seg_00000013.wav</th>\n",
       "      <td>4.56</td>\n",
       "      <td>133.785287</td>\n",
       "      <td>13.458613</td>\n",
       "      <td>14.328246</td>\n",
       "      <td>0.021750</td>\n",
       "      <td>0.000162</td>\n",
       "      <td>0.009076</td>\n",
       "      <td>0.011048</td>\n",
       "      <td>0.027229</td>\n",
       "      <td>0.081441</td>\n",
       "      <td>...</td>\n",
       "      <td>3281.641530</td>\n",
       "      <td>3.356360</td>\n",
       "      <td>-1.234166</td>\n",
       "      <td>-0.010350</td>\n",
       "      <td>971.404572</td>\n",
       "      <td>1888.311671</td>\n",
       "      <td>1431.772802</td>\n",
       "      <td>19.705353</td>\n",
       "      <td>954.678916</td>\n",
       "      <td>18.330770</td>\n",
       "    </tr>\n",
       "    <tr>\n",
       "      <th>Nellesen_16_seg_00000014.wav</th>\n",
       "      <td>3.22</td>\n",
       "      <td>124.983385</td>\n",
       "      <td>10.739877</td>\n",
       "      <td>13.019997</td>\n",
       "      <td>0.022456</td>\n",
       "      <td>0.000180</td>\n",
       "      <td>0.011065</td>\n",
       "      <td>0.013568</td>\n",
       "      <td>0.033194</td>\n",
       "      <td>0.090821</td>\n",
       "      <td>...</td>\n",
       "      <td>3139.740297</td>\n",
       "      <td>1.043403</td>\n",
       "      <td>-0.362349</td>\n",
       "      <td>-0.654514</td>\n",
       "      <td>920.810840</td>\n",
       "      <td>1819.937149</td>\n",
       "      <td>1392.148768</td>\n",
       "      <td>20.220462</td>\n",
       "      <td>919.544280</td>\n",
       "      <td>19.031166</td>\n",
       "    </tr>\n",
       "    <tr>\n",
       "      <th>Nellesen_16_seg_00000015.wav</th>\n",
       "      <td>3.88</td>\n",
       "      <td>121.790394</td>\n",
       "      <td>14.584194</td>\n",
       "      <td>14.532130</td>\n",
       "      <td>0.017897</td>\n",
       "      <td>0.000147</td>\n",
       "      <td>0.007468</td>\n",
       "      <td>0.009028</td>\n",
       "      <td>0.022405</td>\n",
       "      <td>0.076058</td>\n",
       "      <td>...</td>\n",
       "      <td>3043.749205</td>\n",
       "      <td>5.307451</td>\n",
       "      <td>-0.944807</td>\n",
       "      <td>-0.621509</td>\n",
       "      <td>874.129477</td>\n",
       "      <td>1804.813584</td>\n",
       "      <td>1421.358814</td>\n",
       "      <td>19.741575</td>\n",
       "      <td>902.669574</td>\n",
       "      <td>19.386939</td>\n",
       "    </tr>\n",
       "    <tr>\n",
       "      <th>Nellesen_16_seg_00000016.wav</th>\n",
       "      <td>1.62</td>\n",
       "      <td>119.429072</td>\n",
       "      <td>9.565193</td>\n",
       "      <td>11.453924</td>\n",
       "      <td>0.020300</td>\n",
       "      <td>0.000170</td>\n",
       "      <td>0.008115</td>\n",
       "      <td>0.009473</td>\n",
       "      <td>0.024346</td>\n",
       "      <td>0.121142</td>\n",
       "      <td>...</td>\n",
       "      <td>3271.022723</td>\n",
       "      <td>-0.308917</td>\n",
       "      <td>4.073287</td>\n",
       "      <td>1.274278</td>\n",
       "      <td>943.419534</td>\n",
       "      <td>1976.943900</td>\n",
       "      <td>1559.157787</td>\n",
       "      <td>18.014232</td>\n",
       "      <td>981.479812</td>\n",
       "      <td>17.830219</td>\n",
       "    </tr>\n",
       "    <tr>\n",
       "      <th>Nellesen_16_seg_00000017.wav</th>\n",
       "      <td>6.59</td>\n",
       "      <td>126.861859</td>\n",
       "      <td>15.603542</td>\n",
       "      <td>11.263041</td>\n",
       "      <td>0.025166</td>\n",
       "      <td>0.000198</td>\n",
       "      <td>0.010864</td>\n",
       "      <td>0.013818</td>\n",
       "      <td>0.032591</td>\n",
       "      <td>0.107299</td>\n",
       "      <td>...</td>\n",
       "      <td>3228.131234</td>\n",
       "      <td>-0.276250</td>\n",
       "      <td>0.290133</td>\n",
       "      <td>0.212572</td>\n",
       "      <td>930.411518</td>\n",
       "      <td>1878.261217</td>\n",
       "      <td>1472.763668</td>\n",
       "      <td>19.050448</td>\n",
       "      <td>943.710158</td>\n",
       "      <td>18.543829</td>\n",
       "    </tr>\n",
       "    <tr>\n",
       "      <th>Nellesen_16_seg_00000018.wav</th>\n",
       "      <td>2.56</td>\n",
       "      <td>138.098020</td>\n",
       "      <td>15.752171</td>\n",
       "      <td>14.523750</td>\n",
       "      <td>0.037113</td>\n",
       "      <td>0.000272</td>\n",
       "      <td>0.019044</td>\n",
       "      <td>0.021776</td>\n",
       "      <td>0.057131</td>\n",
       "      <td>0.107174</td>\n",
       "      <td>...</td>\n",
       "      <td>3310.869329</td>\n",
       "      <td>-4.928443</td>\n",
       "      <td>-3.291116</td>\n",
       "      <td>0.298098</td>\n",
       "      <td>973.835731</td>\n",
       "      <td>1910.359682</td>\n",
       "      <td>1466.421817</td>\n",
       "      <td>19.193134</td>\n",
       "      <td>962.351832</td>\n",
       "      <td>18.184618</td>\n",
       "    </tr>\n",
       "    <tr>\n",
       "      <th>Nellesen_16_seg_00000019.wav</th>\n",
       "      <td>3.74</td>\n",
       "      <td>130.720294</td>\n",
       "      <td>20.948985</td>\n",
       "      <td>11.773294</td>\n",
       "      <td>0.020259</td>\n",
       "      <td>0.000155</td>\n",
       "      <td>0.008736</td>\n",
       "      <td>0.011427</td>\n",
       "      <td>0.026209</td>\n",
       "      <td>0.102102</td>\n",
       "      <td>...</td>\n",
       "      <td>3212.478587</td>\n",
       "      <td>1.597577</td>\n",
       "      <td>1.534697</td>\n",
       "      <td>-0.198313</td>\n",
       "      <td>931.243832</td>\n",
       "      <td>1851.534937</td>\n",
       "      <td>1447.541454</td>\n",
       "      <td>19.378037</td>\n",
       "      <td>930.921319</td>\n",
       "      <td>18.798581</td>\n",
       "    </tr>\n",
       "    <tr>\n",
       "      <th>Nellesen_16_seg_00000020.wav</th>\n",
       "      <td>1.92</td>\n",
       "      <td>126.771955</td>\n",
       "      <td>11.593715</td>\n",
       "      <td>20.505165</td>\n",
       "      <td>0.015390</td>\n",
       "      <td>0.000122</td>\n",
       "      <td>0.008542</td>\n",
       "      <td>0.008613</td>\n",
       "      <td>0.025627</td>\n",
       "      <td>0.056363</td>\n",
       "      <td>...</td>\n",
       "      <td>2935.913103</td>\n",
       "      <td>7.412889</td>\n",
       "      <td>-2.875175</td>\n",
       "      <td>-0.737982</td>\n",
       "      <td>833.988034</td>\n",
       "      <td>1782.582709</td>\n",
       "      <td>1412.647689</td>\n",
       "      <td>19.887584</td>\n",
       "      <td>888.264664</td>\n",
       "      <td>19.701335</td>\n",
       "    </tr>\n",
       "    <tr>\n",
       "      <th>Nellesen_16_seg_00000021.wav</th>\n",
       "      <td>1.52</td>\n",
       "      <td>134.151952</td>\n",
       "      <td>27.125324</td>\n",
       "      <td>11.937099</td>\n",
       "      <td>0.032045</td>\n",
       "      <td>0.000241</td>\n",
       "      <td>0.014131</td>\n",
       "      <td>0.015869</td>\n",
       "      <td>0.042393</td>\n",
       "      <td>0.101281</td>\n",
       "      <td>...</td>\n",
       "      <td>3262.077778</td>\n",
       "      <td>-0.321630</td>\n",
       "      <td>-2.306831</td>\n",
       "      <td>0.940758</td>\n",
       "      <td>937.510593</td>\n",
       "      <td>1946.277400</td>\n",
       "      <td>1545.615213</td>\n",
       "      <td>18.149370</td>\n",
       "      <td>966.457874</td>\n",
       "      <td>18.107359</td>\n",
       "    </tr>\n",
       "    <tr>\n",
       "      <th>Nellesen_16_seg_00000022.wav</th>\n",
       "      <td>4.60</td>\n",
       "      <td>133.426564</td>\n",
       "      <td>17.558341</td>\n",
       "      <td>11.892103</td>\n",
       "      <td>0.026049</td>\n",
       "      <td>0.000196</td>\n",
       "      <td>0.012050</td>\n",
       "      <td>0.013758</td>\n",
       "      <td>0.036151</td>\n",
       "      <td>0.099156</td>\n",
       "      <td>...</td>\n",
       "      <td>3189.169638</td>\n",
       "      <td>0.255051</td>\n",
       "      <td>-0.766187</td>\n",
       "      <td>-0.005254</td>\n",
       "      <td>928.320062</td>\n",
       "      <td>1873.750882</td>\n",
       "      <td>1458.475599</td>\n",
       "      <td>19.261657</td>\n",
       "      <td>938.626696</td>\n",
       "      <td>18.644260</td>\n",
       "    </tr>\n",
       "    <tr>\n",
       "      <th>Nellesen_16_seg_00000023.wav</th>\n",
       "      <td>1.48</td>\n",
       "      <td>139.610190</td>\n",
       "      <td>23.712120</td>\n",
       "      <td>14.018205</td>\n",
       "      <td>0.017331</td>\n",
       "      <td>0.000124</td>\n",
       "      <td>0.006841</td>\n",
       "      <td>0.007773</td>\n",
       "      <td>0.020524</td>\n",
       "      <td>0.078885</td>\n",
       "      <td>...</td>\n",
       "      <td>3109.348592</td>\n",
       "      <td>5.073434</td>\n",
       "      <td>0.153939</td>\n",
       "      <td>-1.112700</td>\n",
       "      <td>901.515859</td>\n",
       "      <td>1772.977506</td>\n",
       "      <td>1385.283044</td>\n",
       "      <td>20.245209</td>\n",
       "      <td>893.541944</td>\n",
       "      <td>19.584979</td>\n",
       "    </tr>\n",
       "    <tr>\n",
       "      <th>Nellesen_16_seg_00000024.wav</th>\n",
       "      <td>1.78</td>\n",
       "      <td>122.594076</td>\n",
       "      <td>14.193954</td>\n",
       "      <td>10.644057</td>\n",
       "      <td>0.030561</td>\n",
       "      <td>0.000250</td>\n",
       "      <td>0.014163</td>\n",
       "      <td>0.016012</td>\n",
       "      <td>0.042488</td>\n",
       "      <td>0.124922</td>\n",
       "      <td>...</td>\n",
       "      <td>3232.606420</td>\n",
       "      <td>-4.017555</td>\n",
       "      <td>0.132110</td>\n",
       "      <td>-0.025061</td>\n",
       "      <td>956.872318</td>\n",
       "      <td>1888.319154</td>\n",
       "      <td>1433.333235</td>\n",
       "      <td>19.706893</td>\n",
       "      <td>950.952805</td>\n",
       "      <td>18.402596</td>\n",
       "    </tr>\n",
       "    <tr>\n",
       "      <th>Nellesen_16_seg_00000025.wav</th>\n",
       "      <td>6.96</td>\n",
       "      <td>142.294614</td>\n",
       "      <td>20.345297</td>\n",
       "      <td>12.854024</td>\n",
       "      <td>0.024714</td>\n",
       "      <td>0.000175</td>\n",
       "      <td>0.011577</td>\n",
       "      <td>0.013970</td>\n",
       "      <td>0.034730</td>\n",
       "      <td>0.104576</td>\n",
       "      <td>...</td>\n",
       "      <td>3243.368859</td>\n",
       "      <td>-0.354673</td>\n",
       "      <td>0.896649</td>\n",
       "      <td>0.090539</td>\n",
       "      <td>952.920691</td>\n",
       "      <td>1889.646904</td>\n",
       "      <td>1449.236214</td>\n",
       "      <td>19.428010</td>\n",
       "      <td>951.258793</td>\n",
       "      <td>18.396676</td>\n",
       "    </tr>\n",
       "    <tr>\n",
       "      <th>Nellesen_16_seg_00000026.wav</th>\n",
       "      <td>4.06</td>\n",
       "      <td>121.300346</td>\n",
       "      <td>11.803281</td>\n",
       "      <td>10.900530</td>\n",
       "      <td>0.025102</td>\n",
       "      <td>0.000206</td>\n",
       "      <td>0.011252</td>\n",
       "      <td>0.011942</td>\n",
       "      <td>0.033757</td>\n",
       "      <td>0.107299</td>\n",
       "      <td>...</td>\n",
       "      <td>3275.970220</td>\n",
       "      <td>-0.467316</td>\n",
       "      <td>0.460786</td>\n",
       "      <td>0.232877</td>\n",
       "      <td>937.376356</td>\n",
       "      <td>1866.440924</td>\n",
       "      <td>1461.786806</td>\n",
       "      <td>19.246268</td>\n",
       "      <td>944.391313</td>\n",
       "      <td>18.530454</td>\n",
       "    </tr>\n",
       "    <tr>\n",
       "      <th>Nellesen_16_seg_00000027.wav</th>\n",
       "      <td>1.12</td>\n",
       "      <td>191.599830</td>\n",
       "      <td>36.035580</td>\n",
       "      <td>10.748519</td>\n",
       "      <td>0.025819</td>\n",
       "      <td>0.000135</td>\n",
       "      <td>0.010106</td>\n",
       "      <td>0.012522</td>\n",
       "      <td>0.030318</td>\n",
       "      <td>0.103949</td>\n",
       "      <td>...</td>\n",
       "      <td>3370.380870</td>\n",
       "      <td>0.122241</td>\n",
       "      <td>1.792486</td>\n",
       "      <td>0.785471</td>\n",
       "      <td>985.880169</td>\n",
       "      <td>1941.361469</td>\n",
       "      <td>1492.097224</td>\n",
       "      <td>18.844493</td>\n",
       "      <td>981.003038</td>\n",
       "      <td>17.838885</td>\n",
       "    </tr>\n",
       "    <tr>\n",
       "      <th>Nellesen_16_seg_00000028.wav</th>\n",
       "      <td>3.84</td>\n",
       "      <td>130.079445</td>\n",
       "      <td>10.987340</td>\n",
       "      <td>12.049858</td>\n",
       "      <td>0.030228</td>\n",
       "      <td>0.000233</td>\n",
       "      <td>0.013793</td>\n",
       "      <td>0.018346</td>\n",
       "      <td>0.041380</td>\n",
       "      <td>0.113450</td>\n",
       "      <td>...</td>\n",
       "      <td>3244.537505</td>\n",
       "      <td>-3.099878</td>\n",
       "      <td>0.303476</td>\n",
       "      <td>0.043413</td>\n",
       "      <td>941.530366</td>\n",
       "      <td>1876.046406</td>\n",
       "      <td>1469.685344</td>\n",
       "      <td>19.086789</td>\n",
       "      <td>940.800825</td>\n",
       "      <td>18.601174</td>\n",
       "    </tr>\n",
       "    <tr>\n",
       "      <th>Nellesen_16_seg_00000029.wav</th>\n",
       "      <td>1.76</td>\n",
       "      <td>168.471561</td>\n",
       "      <td>18.332099</td>\n",
       "      <td>13.167761</td>\n",
       "      <td>0.022954</td>\n",
       "      <td>0.000137</td>\n",
       "      <td>0.009228</td>\n",
       "      <td>0.011573</td>\n",
       "      <td>0.027685</td>\n",
       "      <td>0.090784</td>\n",
       "      <td>...</td>\n",
       "      <td>3074.157809</td>\n",
       "      <td>2.423055</td>\n",
       "      <td>-0.088394</td>\n",
       "      <td>-0.844393</td>\n",
       "      <td>876.216880</td>\n",
       "      <td>1783.624478</td>\n",
       "      <td>1428.287494</td>\n",
       "      <td>19.612675</td>\n",
       "      <td>889.979386</td>\n",
       "      <td>19.663377</td>\n",
       "    </tr>\n",
       "    <tr>\n",
       "      <th>Nellesen_16_seg_00000030.wav</th>\n",
       "      <td>6.53</td>\n",
       "      <td>141.015997</td>\n",
       "      <td>27.780575</td>\n",
       "      <td>12.923565</td>\n",
       "      <td>0.025283</td>\n",
       "      <td>0.000180</td>\n",
       "      <td>0.011873</td>\n",
       "      <td>0.014443</td>\n",
       "      <td>0.035620</td>\n",
       "      <td>0.111370</td>\n",
       "      <td>...</td>\n",
       "      <td>3201.539993</td>\n",
       "      <td>-0.967110</td>\n",
       "      <td>0.784714</td>\n",
       "      <td>-0.338287</td>\n",
       "      <td>934.065960</td>\n",
       "      <td>1840.307899</td>\n",
       "      <td>1414.861205</td>\n",
       "      <td>19.874553</td>\n",
       "      <td>931.369167</td>\n",
       "      <td>18.789542</td>\n",
       "    </tr>\n",
       "    <tr>\n",
       "      <th>Nellesen_16_seg_00000031.wav</th>\n",
       "      <td>4.16</td>\n",
       "      <td>121.591144</td>\n",
       "      <td>12.736459</td>\n",
       "      <td>11.477509</td>\n",
       "      <td>0.023702</td>\n",
       "      <td>0.000195</td>\n",
       "      <td>0.010660</td>\n",
       "      <td>0.013124</td>\n",
       "      <td>0.031981</td>\n",
       "      <td>0.105245</td>\n",
       "      <td>...</td>\n",
       "      <td>3219.662002</td>\n",
       "      <td>0.176305</td>\n",
       "      <td>0.117211</td>\n",
       "      <td>0.287889</td>\n",
       "      <td>923.507581</td>\n",
       "      <td>1875.165473</td>\n",
       "      <td>1467.377986</td>\n",
       "      <td>19.153963</td>\n",
       "      <td>944.704327</td>\n",
       "      <td>18.524314</td>\n",
       "    </tr>\n",
       "    <tr>\n",
       "      <th>Nellesen_16_seg_00000032.wav</th>\n",
       "      <td>3.66</td>\n",
       "      <td>148.758028</td>\n",
       "      <td>19.159390</td>\n",
       "      <td>13.843920</td>\n",
       "      <td>0.023331</td>\n",
       "      <td>0.000157</td>\n",
       "      <td>0.011020</td>\n",
       "      <td>0.012460</td>\n",
       "      <td>0.033060</td>\n",
       "      <td>0.090869</td>\n",
       "      <td>...</td>\n",
       "      <td>3253.354822</td>\n",
       "      <td>1.894510</td>\n",
       "      <td>-0.756144</td>\n",
       "      <td>-0.580807</td>\n",
       "      <td>960.219774</td>\n",
       "      <td>1832.119606</td>\n",
       "      <td>1388.173662</td>\n",
       "      <td>20.291783</td>\n",
       "      <td>932.457133</td>\n",
       "      <td>18.767619</td>\n",
       "    </tr>\n",
       "    <tr>\n",
       "      <th>Nellesen_16_seg_00000033.wav</th>\n",
       "      <td>5.96</td>\n",
       "      <td>135.279841</td>\n",
       "      <td>20.808721</td>\n",
       "      <td>13.760772</td>\n",
       "      <td>0.023976</td>\n",
       "      <td>0.000178</td>\n",
       "      <td>0.010433</td>\n",
       "      <td>0.012438</td>\n",
       "      <td>0.031300</td>\n",
       "      <td>0.107887</td>\n",
       "      <td>...</td>\n",
       "      <td>3250.985723</td>\n",
       "      <td>0.169448</td>\n",
       "      <td>1.166293</td>\n",
       "      <td>-0.134482</td>\n",
       "      <td>953.647710</td>\n",
       "      <td>1865.503690</td>\n",
       "      <td>1428.580217</td>\n",
       "      <td>19.692120</td>\n",
       "      <td>943.802789</td>\n",
       "      <td>18.542009</td>\n",
       "    </tr>\n",
       "    <tr>\n",
       "      <th>Nellesen_16_seg_00000034.wav</th>\n",
       "      <td>6.07</td>\n",
       "      <td>140.462977</td>\n",
       "      <td>27.353656</td>\n",
       "      <td>13.489203</td>\n",
       "      <td>0.023093</td>\n",
       "      <td>0.000165</td>\n",
       "      <td>0.010957</td>\n",
       "      <td>0.012826</td>\n",
       "      <td>0.032871</td>\n",
       "      <td>0.102980</td>\n",
       "      <td>...</td>\n",
       "      <td>3235.173777</td>\n",
       "      <td>0.676137</td>\n",
       "      <td>0.585920</td>\n",
       "      <td>-0.497984</td>\n",
       "      <td>953.446214</td>\n",
       "      <td>1833.971104</td>\n",
       "      <td>1383.816863</td>\n",
       "      <td>20.383224</td>\n",
       "      <td>934.787537</td>\n",
       "      <td>18.720832</td>\n",
       "    </tr>\n",
       "    <tr>\n",
       "      <th>Nellesen_16_seg_00000035.wav</th>\n",
       "      <td>4.98</td>\n",
       "      <td>122.312984</td>\n",
       "      <td>13.694031</td>\n",
       "      <td>12.032539</td>\n",
       "      <td>0.023586</td>\n",
       "      <td>0.000193</td>\n",
       "      <td>0.011208</td>\n",
       "      <td>0.013039</td>\n",
       "      <td>0.033625</td>\n",
       "      <td>0.123129</td>\n",
       "      <td>...</td>\n",
       "      <td>3270.943263</td>\n",
       "      <td>-2.812148</td>\n",
       "      <td>3.319856</td>\n",
       "      <td>-0.257883</td>\n",
       "      <td>959.434660</td>\n",
       "      <td>1854.176927</td>\n",
       "      <td>1419.089035</td>\n",
       "      <td>19.816893</td>\n",
       "      <td>940.667301</td>\n",
       "      <td>18.603815</td>\n",
       "    </tr>\n",
       "    <tr>\n",
       "      <th>Nellesen_16_seg_00000036.wav</th>\n",
       "      <td>4.54</td>\n",
       "      <td>144.725456</td>\n",
       "      <td>17.046382</td>\n",
       "      <td>14.220632</td>\n",
       "      <td>0.025156</td>\n",
       "      <td>0.000174</td>\n",
       "      <td>0.011980</td>\n",
       "      <td>0.013685</td>\n",
       "      <td>0.035940</td>\n",
       "      <td>0.091475</td>\n",
       "      <td>...</td>\n",
       "      <td>3167.335648</td>\n",
       "      <td>0.946956</td>\n",
       "      <td>-0.911745</td>\n",
       "      <td>-0.067967</td>\n",
       "      <td>909.405658</td>\n",
       "      <td>1845.377119</td>\n",
       "      <td>1440.807761</td>\n",
       "      <td>19.514607</td>\n",
       "      <td>930.320240</td>\n",
       "      <td>18.810727</td>\n",
       "    </tr>\n",
       "    <tr>\n",
       "      <th>Nellesen_16_seg_00000037.wav</th>\n",
       "      <td>6.45</td>\n",
       "      <td>138.640989</td>\n",
       "      <td>13.476115</td>\n",
       "      <td>14.846323</td>\n",
       "      <td>0.020776</td>\n",
       "      <td>0.000150</td>\n",
       "      <td>0.009423</td>\n",
       "      <td>0.011304</td>\n",
       "      <td>0.028270</td>\n",
       "      <td>0.099633</td>\n",
       "      <td>...</td>\n",
       "      <td>3224.914387</td>\n",
       "      <td>1.682801</td>\n",
       "      <td>1.173602</td>\n",
       "      <td>-0.225032</td>\n",
       "      <td>942.871977</td>\n",
       "      <td>1849.488982</td>\n",
       "      <td>1411.691813</td>\n",
       "      <td>19.949074</td>\n",
       "      <td>938.851492</td>\n",
       "      <td>18.639796</td>\n",
       "    </tr>\n",
       "    <tr>\n",
       "      <th>Nellesen_16_seg_00000038.wav</th>\n",
       "      <td>5.97</td>\n",
       "      <td>119.484982</td>\n",
       "      <td>9.337189</td>\n",
       "      <td>13.434913</td>\n",
       "      <td>0.020775</td>\n",
       "      <td>0.000174</td>\n",
       "      <td>0.009844</td>\n",
       "      <td>0.011032</td>\n",
       "      <td>0.029532</td>\n",
       "      <td>0.107257</td>\n",
       "      <td>...</td>\n",
       "      <td>3242.225300</td>\n",
       "      <td>0.900728</td>\n",
       "      <td>1.423753</td>\n",
       "      <td>-0.068720</td>\n",
       "      <td>947.450621</td>\n",
       "      <td>1863.182517</td>\n",
       "      <td>1425.122000</td>\n",
       "      <td>19.752284</td>\n",
       "      <td>944.704855</td>\n",
       "      <td>18.524304</td>\n",
       "    </tr>\n",
       "    <tr>\n",
       "      <th>Nellesen_16_seg_00000039.wav</th>\n",
       "      <td>6.93</td>\n",
       "      <td>134.628002</td>\n",
       "      <td>21.017100</td>\n",
       "      <td>12.644968</td>\n",
       "      <td>0.024868</td>\n",
       "      <td>0.000184</td>\n",
       "      <td>0.011717</td>\n",
       "      <td>0.014250</td>\n",
       "      <td>0.035152</td>\n",
       "      <td>0.108954</td>\n",
       "      <td>...</td>\n",
       "      <td>3246.952974</td>\n",
       "      <td>-0.623889</td>\n",
       "      <td>0.129016</td>\n",
       "      <td>-0.731438</td>\n",
       "      <td>952.355488</td>\n",
       "      <td>1814.799169</td>\n",
       "      <td>1392.145167</td>\n",
       "      <td>20.183754</td>\n",
       "      <td>922.083194</td>\n",
       "      <td>18.978765</td>\n",
       "    </tr>\n",
       "    <tr>\n",
       "      <th>Nellesen_16_seg_00000040.wav</th>\n",
       "      <td>4.02</td>\n",
       "      <td>150.103179</td>\n",
       "      <td>28.425671</td>\n",
       "      <td>12.835537</td>\n",
       "      <td>0.033488</td>\n",
       "      <td>0.000224</td>\n",
       "      <td>0.016136</td>\n",
       "      <td>0.017968</td>\n",
       "      <td>0.048409</td>\n",
       "      <td>0.109506</td>\n",
       "      <td>...</td>\n",
       "      <td>3222.085170</td>\n",
       "      <td>-2.395877</td>\n",
       "      <td>-1.985890</td>\n",
       "      <td>0.050312</td>\n",
       "      <td>937.395430</td>\n",
       "      <td>1869.596985</td>\n",
       "      <td>1439.713629</td>\n",
       "      <td>19.537218</td>\n",
       "      <td>944.887140</td>\n",
       "      <td>18.520730</td>\n",
       "    </tr>\n",
       "    <tr>\n",
       "      <th>Nellesen_16_seg_00000041.wav</th>\n",
       "      <td>5.46</td>\n",
       "      <td>147.666225</td>\n",
       "      <td>23.849012</td>\n",
       "      <td>11.696512</td>\n",
       "      <td>0.026573</td>\n",
       "      <td>0.000180</td>\n",
       "      <td>0.012390</td>\n",
       "      <td>0.014487</td>\n",
       "      <td>0.037170</td>\n",
       "      <td>0.099395</td>\n",
       "      <td>...</td>\n",
       "      <td>3257.632477</td>\n",
       "      <td>0.360240</td>\n",
       "      <td>-1.150751</td>\n",
       "      <td>-0.196100</td>\n",
       "      <td>952.746591</td>\n",
       "      <td>1857.029197</td>\n",
       "      <td>1428.055501</td>\n",
       "      <td>19.680567</td>\n",
       "      <td>940.121769</td>\n",
       "      <td>18.614610</td>\n",
       "    </tr>\n",
       "    <tr>\n",
       "      <th>Nellesen_16_seg_00000042.wav</th>\n",
       "      <td>4.14</td>\n",
       "      <td>143.314794</td>\n",
       "      <td>13.213374</td>\n",
       "      <td>16.070955</td>\n",
       "      <td>0.013789</td>\n",
       "      <td>0.000096</td>\n",
       "      <td>0.005462</td>\n",
       "      <td>0.006931</td>\n",
       "      <td>0.016386</td>\n",
       "      <td>0.070076</td>\n",
       "      <td>...</td>\n",
       "      <td>3034.893635</td>\n",
       "      <td>6.695328</td>\n",
       "      <td>0.143431</td>\n",
       "      <td>-0.137175</td>\n",
       "      <td>858.325259</td>\n",
       "      <td>1832.483505</td>\n",
       "      <td>1466.966901</td>\n",
       "      <td>19.125647</td>\n",
       "      <td>910.554879</td>\n",
       "      <td>19.219050</td>\n",
       "    </tr>\n",
       "    <tr>\n",
       "      <th>Nellesen_16_seg_00000043.wav</th>\n",
       "      <td>3.60</td>\n",
       "      <td>142.302753</td>\n",
       "      <td>18.444417</td>\n",
       "      <td>13.977595</td>\n",
       "      <td>0.020204</td>\n",
       "      <td>0.000142</td>\n",
       "      <td>0.009309</td>\n",
       "      <td>0.010298</td>\n",
       "      <td>0.027927</td>\n",
       "      <td>0.096845</td>\n",
       "      <td>...</td>\n",
       "      <td>3252.728644</td>\n",
       "      <td>1.926554</td>\n",
       "      <td>0.732879</td>\n",
       "      <td>-0.099305</td>\n",
       "      <td>962.395360</td>\n",
       "      <td>1872.388343</td>\n",
       "      <td>1404.340182</td>\n",
       "      <td>20.124778</td>\n",
       "      <td>952.355963</td>\n",
       "      <td>18.375482</td>\n",
       "    </tr>\n",
       "    <tr>\n",
       "      <th>Nellesen_16_seg_00000044.wav</th>\n",
       "      <td>1.84</td>\n",
       "      <td>116.534074</td>\n",
       "      <td>9.376311</td>\n",
       "      <td>9.279398</td>\n",
       "      <td>0.034974</td>\n",
       "      <td>0.000301</td>\n",
       "      <td>0.016392</td>\n",
       "      <td>0.019368</td>\n",
       "      <td>0.049175</td>\n",
       "      <td>0.120629</td>\n",
       "      <td>...</td>\n",
       "      <td>3261.118004</td>\n",
       "      <td>-5.978188</td>\n",
       "      <td>-0.991079</td>\n",
       "      <td>0.963428</td>\n",
       "      <td>922.126333</td>\n",
       "      <td>1914.728989</td>\n",
       "      <td>1510.689840</td>\n",
       "      <td>18.663864</td>\n",
       "      <td>963.293442</td>\n",
       "      <td>18.166842</td>\n",
       "    </tr>\n",
       "    <tr>\n",
       "      <th>Nellesen_16_seg_00000045.wav</th>\n",
       "      <td>4.30</td>\n",
       "      <td>150.144489</td>\n",
       "      <td>41.387895</td>\n",
       "      <td>12.737892</td>\n",
       "      <td>0.022174</td>\n",
       "      <td>0.000148</td>\n",
       "      <td>0.009326</td>\n",
       "      <td>0.011546</td>\n",
       "      <td>0.027979</td>\n",
       "      <td>0.097567</td>\n",
       "      <td>...</td>\n",
       "      <td>3221.309796</td>\n",
       "      <td>1.614059</td>\n",
       "      <td>0.747809</td>\n",
       "      <td>0.256184</td>\n",
       "      <td>917.574204</td>\n",
       "      <td>1864.223857</td>\n",
       "      <td>1466.606620</td>\n",
       "      <td>19.184266</td>\n",
       "      <td>939.882897</td>\n",
       "      <td>18.619341</td>\n",
       "    </tr>\n",
       "  </tbody>\n",
       "</table>\n",
       "<p>46 rows × 32 columns</p>\n",
       "</div>"
      ],
      "text/plain": [
       "                              duration    meanF0Hz  stdevF0Hz        HNR  \\\n",
       "file                                                                       \n",
       "Nellesen_16_seg_00000000.wav      1.62  138.032116   9.225841  13.833710   \n",
       "Nellesen_16_seg_00000001.wav      5.40  139.994580  25.988065  12.641527   \n",
       "Nellesen_16_seg_00000002.wav      2.70  142.104801  19.648685  12.709082   \n",
       "Nellesen_16_seg_00000003.wav      2.42  144.032920  34.096210  13.745294   \n",
       "Nellesen_16_seg_00000004.wav      5.68  135.085800  12.895143  13.356369   \n",
       "Nellesen_16_seg_00000005.wav      1.58  152.269223  21.689414  13.382492   \n",
       "Nellesen_16_seg_00000006.wav      2.40  137.176334  10.225154  12.623347   \n",
       "Nellesen_16_seg_00000007.wav      2.12  119.233807  11.562480  11.712906   \n",
       "Nellesen_16_seg_00000008.wav      3.42  137.733800  24.947202  12.093408   \n",
       "Nellesen_16_seg_00000009.wav      4.68  137.981979  35.036139  13.087981   \n",
       "Nellesen_16_seg_00000010.wav      1.56  114.001039   9.977719  10.774613   \n",
       "Nellesen_16_seg_00000011.wav      2.26  142.704439  13.726874  10.985380   \n",
       "Nellesen_16_seg_00000012.wav      5.99  137.003068  23.831739  12.501902   \n",
       "Nellesen_16_seg_00000013.wav      4.56  133.785287  13.458613  14.328246   \n",
       "Nellesen_16_seg_00000014.wav      3.22  124.983385  10.739877  13.019997   \n",
       "Nellesen_16_seg_00000015.wav      3.88  121.790394  14.584194  14.532130   \n",
       "Nellesen_16_seg_00000016.wav      1.62  119.429072   9.565193  11.453924   \n",
       "Nellesen_16_seg_00000017.wav      6.59  126.861859  15.603542  11.263041   \n",
       "Nellesen_16_seg_00000018.wav      2.56  138.098020  15.752171  14.523750   \n",
       "Nellesen_16_seg_00000019.wav      3.74  130.720294  20.948985  11.773294   \n",
       "Nellesen_16_seg_00000020.wav      1.92  126.771955  11.593715  20.505165   \n",
       "Nellesen_16_seg_00000021.wav      1.52  134.151952  27.125324  11.937099   \n",
       "Nellesen_16_seg_00000022.wav      4.60  133.426564  17.558341  11.892103   \n",
       "Nellesen_16_seg_00000023.wav      1.48  139.610190  23.712120  14.018205   \n",
       "Nellesen_16_seg_00000024.wav      1.78  122.594076  14.193954  10.644057   \n",
       "Nellesen_16_seg_00000025.wav      6.96  142.294614  20.345297  12.854024   \n",
       "Nellesen_16_seg_00000026.wav      4.06  121.300346  11.803281  10.900530   \n",
       "Nellesen_16_seg_00000027.wav      1.12  191.599830  36.035580  10.748519   \n",
       "Nellesen_16_seg_00000028.wav      3.84  130.079445  10.987340  12.049858   \n",
       "Nellesen_16_seg_00000029.wav      1.76  168.471561  18.332099  13.167761   \n",
       "Nellesen_16_seg_00000030.wav      6.53  141.015997  27.780575  12.923565   \n",
       "Nellesen_16_seg_00000031.wav      4.16  121.591144  12.736459  11.477509   \n",
       "Nellesen_16_seg_00000032.wav      3.66  148.758028  19.159390  13.843920   \n",
       "Nellesen_16_seg_00000033.wav      5.96  135.279841  20.808721  13.760772   \n",
       "Nellesen_16_seg_00000034.wav      6.07  140.462977  27.353656  13.489203   \n",
       "Nellesen_16_seg_00000035.wav      4.98  122.312984  13.694031  12.032539   \n",
       "Nellesen_16_seg_00000036.wav      4.54  144.725456  17.046382  14.220632   \n",
       "Nellesen_16_seg_00000037.wav      6.45  138.640989  13.476115  14.846323   \n",
       "Nellesen_16_seg_00000038.wav      5.97  119.484982   9.337189  13.434913   \n",
       "Nellesen_16_seg_00000039.wav      6.93  134.628002  21.017100  12.644968   \n",
       "Nellesen_16_seg_00000040.wav      4.02  150.103179  28.425671  12.835537   \n",
       "Nellesen_16_seg_00000041.wav      5.46  147.666225  23.849012  11.696512   \n",
       "Nellesen_16_seg_00000042.wav      4.14  143.314794  13.213374  16.070955   \n",
       "Nellesen_16_seg_00000043.wav      3.60  142.302753  18.444417  13.977595   \n",
       "Nellesen_16_seg_00000044.wav      1.84  116.534074   9.376311   9.279398   \n",
       "Nellesen_16_seg_00000045.wav      4.30  150.144489  41.387895  12.737892   \n",
       "\n",
       "                              localJitter  localabsoluteJitter  rapJitter  \\\n",
       "file                                                                        \n",
       "Nellesen_16_seg_00000000.wav     0.021991             0.000160   0.008185   \n",
       "Nellesen_16_seg_00000001.wav     0.024912             0.000178   0.010345   \n",
       "Nellesen_16_seg_00000002.wav     0.025809             0.000182   0.011067   \n",
       "Nellesen_16_seg_00000003.wav     0.031511             0.000220   0.014398   \n",
       "Nellesen_16_seg_00000004.wav     0.022358             0.000166   0.010386   \n",
       "Nellesen_16_seg_00000005.wav     0.034018             0.000226   0.015145   \n",
       "Nellesen_16_seg_00000006.wav     0.028900             0.000212   0.014266   \n",
       "Nellesen_16_seg_00000007.wav     0.030083             0.000252   0.013831   \n",
       "Nellesen_16_seg_00000008.wav     0.027500             0.000200   0.012684   \n",
       "Nellesen_16_seg_00000009.wav     0.027427             0.000200   0.013517   \n",
       "Nellesen_16_seg_00000010.wav     0.031844             0.000279   0.015620   \n",
       "Nellesen_16_seg_00000011.wav     0.035713             0.000252   0.015783   \n",
       "Nellesen_16_seg_00000012.wav     0.025711             0.000187   0.011742   \n",
       "Nellesen_16_seg_00000013.wav     0.021750             0.000162   0.009076   \n",
       "Nellesen_16_seg_00000014.wav     0.022456             0.000180   0.011065   \n",
       "Nellesen_16_seg_00000015.wav     0.017897             0.000147   0.007468   \n",
       "Nellesen_16_seg_00000016.wav     0.020300             0.000170   0.008115   \n",
       "Nellesen_16_seg_00000017.wav     0.025166             0.000198   0.010864   \n",
       "Nellesen_16_seg_00000018.wav     0.037113             0.000272   0.019044   \n",
       "Nellesen_16_seg_00000019.wav     0.020259             0.000155   0.008736   \n",
       "Nellesen_16_seg_00000020.wav     0.015390             0.000122   0.008542   \n",
       "Nellesen_16_seg_00000021.wav     0.032045             0.000241   0.014131   \n",
       "Nellesen_16_seg_00000022.wav     0.026049             0.000196   0.012050   \n",
       "Nellesen_16_seg_00000023.wav     0.017331             0.000124   0.006841   \n",
       "Nellesen_16_seg_00000024.wav     0.030561             0.000250   0.014163   \n",
       "Nellesen_16_seg_00000025.wav     0.024714             0.000175   0.011577   \n",
       "Nellesen_16_seg_00000026.wav     0.025102             0.000206   0.011252   \n",
       "Nellesen_16_seg_00000027.wav     0.025819             0.000135   0.010106   \n",
       "Nellesen_16_seg_00000028.wav     0.030228             0.000233   0.013793   \n",
       "Nellesen_16_seg_00000029.wav     0.022954             0.000137   0.009228   \n",
       "Nellesen_16_seg_00000030.wav     0.025283             0.000180   0.011873   \n",
       "Nellesen_16_seg_00000031.wav     0.023702             0.000195   0.010660   \n",
       "Nellesen_16_seg_00000032.wav     0.023331             0.000157   0.011020   \n",
       "Nellesen_16_seg_00000033.wav     0.023976             0.000178   0.010433   \n",
       "Nellesen_16_seg_00000034.wav     0.023093             0.000165   0.010957   \n",
       "Nellesen_16_seg_00000035.wav     0.023586             0.000193   0.011208   \n",
       "Nellesen_16_seg_00000036.wav     0.025156             0.000174   0.011980   \n",
       "Nellesen_16_seg_00000037.wav     0.020776             0.000150   0.009423   \n",
       "Nellesen_16_seg_00000038.wav     0.020775             0.000174   0.009844   \n",
       "Nellesen_16_seg_00000039.wav     0.024868             0.000184   0.011717   \n",
       "Nellesen_16_seg_00000040.wav     0.033488             0.000224   0.016136   \n",
       "Nellesen_16_seg_00000041.wav     0.026573             0.000180   0.012390   \n",
       "Nellesen_16_seg_00000042.wav     0.013789             0.000096   0.005462   \n",
       "Nellesen_16_seg_00000043.wav     0.020204             0.000142   0.009309   \n",
       "Nellesen_16_seg_00000044.wav     0.034974             0.000301   0.016392   \n",
       "Nellesen_16_seg_00000045.wav     0.022174             0.000148   0.009326   \n",
       "\n",
       "                              ppq5Jitter  ddpJitter  localShimmer  ...  \\\n",
       "file                                                               ...   \n",
       "Nellesen_16_seg_00000000.wav    0.011459   0.024556      0.089212  ...   \n",
       "Nellesen_16_seg_00000001.wav    0.012082   0.031035      0.113241  ...   \n",
       "Nellesen_16_seg_00000002.wav    0.012556   0.033200      0.105251  ...   \n",
       "Nellesen_16_seg_00000003.wav    0.016121   0.043194      0.102900  ...   \n",
       "Nellesen_16_seg_00000004.wav    0.012589   0.031157      0.101330  ...   \n",
       "Nellesen_16_seg_00000005.wav    0.016944   0.045434      0.120076  ...   \n",
       "Nellesen_16_seg_00000006.wav    0.016103   0.042797      0.097977  ...   \n",
       "Nellesen_16_seg_00000007.wav    0.016940   0.041492      0.134628  ...   \n",
       "Nellesen_16_seg_00000008.wav    0.014822   0.038053      0.105084  ...   \n",
       "Nellesen_16_seg_00000009.wav    0.016990   0.040550      0.106978  ...   \n",
       "Nellesen_16_seg_00000010.wav    0.016094   0.046861      0.113265  ...   \n",
       "Nellesen_16_seg_00000011.wav    0.020937   0.047350      0.118402  ...   \n",
       "Nellesen_16_seg_00000012.wav    0.014016   0.035225      0.099730  ...   \n",
       "Nellesen_16_seg_00000013.wav    0.011048   0.027229      0.081441  ...   \n",
       "Nellesen_16_seg_00000014.wav    0.013568   0.033194      0.090821  ...   \n",
       "Nellesen_16_seg_00000015.wav    0.009028   0.022405      0.076058  ...   \n",
       "Nellesen_16_seg_00000016.wav    0.009473   0.024346      0.121142  ...   \n",
       "Nellesen_16_seg_00000017.wav    0.013818   0.032591      0.107299  ...   \n",
       "Nellesen_16_seg_00000018.wav    0.021776   0.057131      0.107174  ...   \n",
       "Nellesen_16_seg_00000019.wav    0.011427   0.026209      0.102102  ...   \n",
       "Nellesen_16_seg_00000020.wav    0.008613   0.025627      0.056363  ...   \n",
       "Nellesen_16_seg_00000021.wav    0.015869   0.042393      0.101281  ...   \n",
       "Nellesen_16_seg_00000022.wav    0.013758   0.036151      0.099156  ...   \n",
       "Nellesen_16_seg_00000023.wav    0.007773   0.020524      0.078885  ...   \n",
       "Nellesen_16_seg_00000024.wav    0.016012   0.042488      0.124922  ...   \n",
       "Nellesen_16_seg_00000025.wav    0.013970   0.034730      0.104576  ...   \n",
       "Nellesen_16_seg_00000026.wav    0.011942   0.033757      0.107299  ...   \n",
       "Nellesen_16_seg_00000027.wav    0.012522   0.030318      0.103949  ...   \n",
       "Nellesen_16_seg_00000028.wav    0.018346   0.041380      0.113450  ...   \n",
       "Nellesen_16_seg_00000029.wav    0.011573   0.027685      0.090784  ...   \n",
       "Nellesen_16_seg_00000030.wav    0.014443   0.035620      0.111370  ...   \n",
       "Nellesen_16_seg_00000031.wav    0.013124   0.031981      0.105245  ...   \n",
       "Nellesen_16_seg_00000032.wav    0.012460   0.033060      0.090869  ...   \n",
       "Nellesen_16_seg_00000033.wav    0.012438   0.031300      0.107887  ...   \n",
       "Nellesen_16_seg_00000034.wav    0.012826   0.032871      0.102980  ...   \n",
       "Nellesen_16_seg_00000035.wav    0.013039   0.033625      0.123129  ...   \n",
       "Nellesen_16_seg_00000036.wav    0.013685   0.035940      0.091475  ...   \n",
       "Nellesen_16_seg_00000037.wav    0.011304   0.028270      0.099633  ...   \n",
       "Nellesen_16_seg_00000038.wav    0.011032   0.029532      0.107257  ...   \n",
       "Nellesen_16_seg_00000039.wav    0.014250   0.035152      0.108954  ...   \n",
       "Nellesen_16_seg_00000040.wav    0.017968   0.048409      0.109506  ...   \n",
       "Nellesen_16_seg_00000041.wav    0.014487   0.037170      0.099395  ...   \n",
       "Nellesen_16_seg_00000042.wav    0.006931   0.016386      0.070076  ...   \n",
       "Nellesen_16_seg_00000043.wav    0.010298   0.027927      0.096845  ...   \n",
       "Nellesen_16_seg_00000044.wav    0.019368   0.049175      0.120629  ...   \n",
       "Nellesen_16_seg_00000045.wav    0.011546   0.027979      0.097567  ...   \n",
       "\n",
       "                                f4_median  JitterPCA  ShimmerPCA        pF  \\\n",
       "file                                                                         \n",
       "Nellesen_16_seg_00000000.wav  3367.405786   2.913234    0.056890  0.186858   \n",
       "Nellesen_16_seg_00000001.wav  3343.278039  -0.368369    1.641947  0.159001   \n",
       "Nellesen_16_seg_00000002.wav  3336.445622  -0.168193    1.087785  0.583368   \n",
       "Nellesen_16_seg_00000003.wav  3292.804508  -1.207391   -2.076215  0.538350   \n",
       "Nellesen_16_seg_00000004.wav  3295.044219   0.820913    0.451978  0.165721   \n",
       "Nellesen_16_seg_00000005.wav  3166.470743  -2.812184   -0.501609 -0.656489   \n",
       "Nellesen_16_seg_00000006.wav  3074.204412  -1.335264   -1.365190 -0.517680   \n",
       "Nellesen_16_seg_00000007.wav  3557.946932  -3.896559    1.081428  0.222688   \n",
       "Nellesen_16_seg_00000008.wav  3271.476628  -0.800444   -0.134976  0.520724   \n",
       "Nellesen_16_seg_00000009.wav  3368.801322  -2.033474    0.017660  0.033256   \n",
       "Nellesen_16_seg_00000010.wav  3334.050787  -3.073877   -1.522938 -0.402962   \n",
       "Nellesen_16_seg_00000011.wav  3361.659626  -5.434625   -0.562705  0.918992   \n",
       "Nellesen_16_seg_00000012.wav  3244.312759   0.313581   -0.471466  0.357608   \n",
       "Nellesen_16_seg_00000013.wav  3281.641530   3.356360   -1.234166 -0.010350   \n",
       "Nellesen_16_seg_00000014.wav  3139.740297   1.043403   -0.362349 -0.654514   \n",
       "Nellesen_16_seg_00000015.wav  3043.749205   5.307451   -0.944807 -0.621509   \n",
       "Nellesen_16_seg_00000016.wav  3271.022723  -0.308917    4.073287  1.274278   \n",
       "Nellesen_16_seg_00000017.wav  3228.131234  -0.276250    0.290133  0.212572   \n",
       "Nellesen_16_seg_00000018.wav  3310.869329  -4.928443   -3.291116  0.298098   \n",
       "Nellesen_16_seg_00000019.wav  3212.478587   1.597577    1.534697 -0.198313   \n",
       "Nellesen_16_seg_00000020.wav  2935.913103   7.412889   -2.875175 -0.737982   \n",
       "Nellesen_16_seg_00000021.wav  3262.077778  -0.321630   -2.306831  0.940758   \n",
       "Nellesen_16_seg_00000022.wav  3189.169638   0.255051   -0.766187 -0.005254   \n",
       "Nellesen_16_seg_00000023.wav  3109.348592   5.073434    0.153939 -1.112700   \n",
       "Nellesen_16_seg_00000024.wav  3232.606420  -4.017555    0.132110 -0.025061   \n",
       "Nellesen_16_seg_00000025.wav  3243.368859  -0.354673    0.896649  0.090539   \n",
       "Nellesen_16_seg_00000026.wav  3275.970220  -0.467316    0.460786  0.232877   \n",
       "Nellesen_16_seg_00000027.wav  3370.380870   0.122241    1.792486  0.785471   \n",
       "Nellesen_16_seg_00000028.wav  3244.537505  -3.099878    0.303476  0.043413   \n",
       "Nellesen_16_seg_00000029.wav  3074.157809   2.423055   -0.088394 -0.844393   \n",
       "Nellesen_16_seg_00000030.wav  3201.539993  -0.967110    0.784714 -0.338287   \n",
       "Nellesen_16_seg_00000031.wav  3219.662002   0.176305    0.117211  0.287889   \n",
       "Nellesen_16_seg_00000032.wav  3253.354822   1.894510   -0.756144 -0.580807   \n",
       "Nellesen_16_seg_00000033.wav  3250.985723   0.169448    1.166293 -0.134482   \n",
       "Nellesen_16_seg_00000034.wav  3235.173777   0.676137    0.585920 -0.497984   \n",
       "Nellesen_16_seg_00000035.wav  3270.943263  -2.812148    3.319856 -0.257883   \n",
       "Nellesen_16_seg_00000036.wav  3167.335648   0.946956   -0.911745 -0.067967   \n",
       "Nellesen_16_seg_00000037.wav  3224.914387   1.682801    1.173602 -0.225032   \n",
       "Nellesen_16_seg_00000038.wav  3242.225300   0.900728    1.423753 -0.068720   \n",
       "Nellesen_16_seg_00000039.wav  3246.952974  -0.623889    0.129016 -0.731438   \n",
       "Nellesen_16_seg_00000040.wav  3222.085170  -2.395877   -1.985890  0.050312   \n",
       "Nellesen_16_seg_00000041.wav  3257.632477   0.360240   -1.150751 -0.196100   \n",
       "Nellesen_16_seg_00000042.wav  3034.893635   6.695328    0.143431 -0.137175   \n",
       "Nellesen_16_seg_00000043.wav  3252.728644   1.926554    0.732879 -0.099305   \n",
       "Nellesen_16_seg_00000044.wav  3261.118004  -5.978188   -0.991079  0.963428   \n",
       "Nellesen_16_seg_00000045.wav  3221.309796   1.614059    0.747809  0.256184   \n",
       "\n",
       "                                    fdisp   avgFormant          mff  \\\n",
       "file                                                                  \n",
       "Nellesen_16_seg_00000000.wav   996.951473  1912.929611  1462.971189   \n",
       "Nellesen_16_seg_00000001.wav   971.514450  1882.327844  1463.715658   \n",
       "Nellesen_16_seg_00000002.wav   982.493825  1935.132758  1480.663155   \n",
       "Nellesen_16_seg_00000003.wav   961.897631  1926.418672  1496.766625   \n",
       "Nellesen_16_seg_00000004.wav   989.821113  1921.269925  1423.011337   \n",
       "Nellesen_16_seg_00000005.wav   940.745146  1835.217072  1381.157749   \n",
       "Nellesen_16_seg_00000006.wav   892.817520  1821.921191  1410.204786   \n",
       "Nellesen_16_seg_00000007.wav  1067.971012  1919.408443  1411.736302   \n",
       "Nellesen_16_seg_00000008.wav   966.087242  1938.046958  1483.639120   \n",
       "Nellesen_16_seg_00000009.wav   998.959320  1885.871730  1409.069464   \n",
       "Nellesen_16_seg_00000010.wav   992.588443  1854.406445  1381.116322   \n",
       "Nellesen_16_seg_00000011.wav   977.032868  1948.411167  1515.059138   \n",
       "Nellesen_16_seg_00000012.wav   933.861872  1894.799395  1498.644742   \n",
       "Nellesen_16_seg_00000013.wav   971.404572  1888.311671  1431.772802   \n",
       "Nellesen_16_seg_00000014.wav   920.810840  1819.937149  1392.148768   \n",
       "Nellesen_16_seg_00000015.wav   874.129477  1804.813584  1421.358814   \n",
       "Nellesen_16_seg_00000016.wav   943.419534  1976.943900  1559.157787   \n",
       "Nellesen_16_seg_00000017.wav   930.411518  1878.261217  1472.763668   \n",
       "Nellesen_16_seg_00000018.wav   973.835731  1910.359682  1466.421817   \n",
       "Nellesen_16_seg_00000019.wav   931.243832  1851.534937  1447.541454   \n",
       "Nellesen_16_seg_00000020.wav   833.988034  1782.582709  1412.647689   \n",
       "Nellesen_16_seg_00000021.wav   937.510593  1946.277400  1545.615213   \n",
       "Nellesen_16_seg_00000022.wav   928.320062  1873.750882  1458.475599   \n",
       "Nellesen_16_seg_00000023.wav   901.515859  1772.977506  1385.283044   \n",
       "Nellesen_16_seg_00000024.wav   956.872318  1888.319154  1433.333235   \n",
       "Nellesen_16_seg_00000025.wav   952.920691  1889.646904  1449.236214   \n",
       "Nellesen_16_seg_00000026.wav   937.376356  1866.440924  1461.786806   \n",
       "Nellesen_16_seg_00000027.wav   985.880169  1941.361469  1492.097224   \n",
       "Nellesen_16_seg_00000028.wav   941.530366  1876.046406  1469.685344   \n",
       "Nellesen_16_seg_00000029.wav   876.216880  1783.624478  1428.287494   \n",
       "Nellesen_16_seg_00000030.wav   934.065960  1840.307899  1414.861205   \n",
       "Nellesen_16_seg_00000031.wav   923.507581  1875.165473  1467.377986   \n",
       "Nellesen_16_seg_00000032.wav   960.219774  1832.119606  1388.173662   \n",
       "Nellesen_16_seg_00000033.wav   953.647710  1865.503690  1428.580217   \n",
       "Nellesen_16_seg_00000034.wav   953.446214  1833.971104  1383.816863   \n",
       "Nellesen_16_seg_00000035.wav   959.434660  1854.176927  1419.089035   \n",
       "Nellesen_16_seg_00000036.wav   909.405658  1845.377119  1440.807761   \n",
       "Nellesen_16_seg_00000037.wav   942.871977  1849.488982  1411.691813   \n",
       "Nellesen_16_seg_00000038.wav   947.450621  1863.182517  1425.122000   \n",
       "Nellesen_16_seg_00000039.wav   952.355488  1814.799169  1392.145167   \n",
       "Nellesen_16_seg_00000040.wav   937.395430  1869.596985  1439.713629   \n",
       "Nellesen_16_seg_00000041.wav   952.746591  1857.029197  1428.055501   \n",
       "Nellesen_16_seg_00000042.wav   858.325259  1832.483505  1466.966901   \n",
       "Nellesen_16_seg_00000043.wav   962.395360  1872.388343  1404.340182   \n",
       "Nellesen_16_seg_00000044.wav   922.126333  1914.728989  1510.689840   \n",
       "Nellesen_16_seg_00000045.wav   917.574204  1864.223857  1466.606620   \n",
       "\n",
       "                              fitch_vtl     delta_f  vtl_delta_f  \n",
       "file                                                              \n",
       "Nellesen_16_seg_00000000.wav  19.273052  963.929051    18.154863  \n",
       "Nellesen_16_seg_00000001.wav  19.167467  952.489198    18.372912  \n",
       "Nellesen_16_seg_00000002.wav  19.024088  974.943130    17.949765  \n",
       "Nellesen_16_seg_00000003.wav  18.780848  964.624205    18.141780  \n",
       "Nellesen_16_seg_00000004.wav  20.035492  970.433594    18.033176  \n",
       "Nellesen_16_seg_00000005.wav  20.477515  928.036536    18.857016  \n",
       "Nellesen_16_seg_00000006.wav  19.940971  915.238977    19.120689  \n",
       "Nellesen_16_seg_00000007.wav  20.063288  989.857022    17.679321  \n",
       "Nellesen_16_seg_00000008.wav  19.047930  969.109353    18.057818  \n",
       "Nellesen_16_seg_00000009.wav  20.050386  965.099373    18.132848  \n",
       "Nellesen_16_seg_00000010.wav  20.465333  949.634553    18.428142  \n",
       "Nellesen_16_seg_00000011.wav  18.530083  980.290856    17.851845  \n",
       "Nellesen_16_seg_00000012.wav  18.704589  946.930178    18.480771  \n",
       "Nellesen_16_seg_00000013.wav  19.705353  954.678916    18.330770  \n",
       "Nellesen_16_seg_00000014.wav  20.220462  919.544280    19.031166  \n",
       "Nellesen_16_seg_00000015.wav  19.741575  902.669574    19.386939  \n",
       "Nellesen_16_seg_00000016.wav  18.014232  981.479812    17.830219  \n",
       "Nellesen_16_seg_00000017.wav  19.050448  943.710158    18.543829  \n",
       "Nellesen_16_seg_00000018.wav  19.193134  962.351832    18.184618  \n",
       "Nellesen_16_seg_00000019.wav  19.378037  930.921319    18.798581  \n",
       "Nellesen_16_seg_00000020.wav  19.887584  888.264664    19.701335  \n",
       "Nellesen_16_seg_00000021.wav  18.149370  966.457874    18.107359  \n",
       "Nellesen_16_seg_00000022.wav  19.261657  938.626696    18.644260  \n",
       "Nellesen_16_seg_00000023.wav  20.245209  893.541944    19.584979  \n",
       "Nellesen_16_seg_00000024.wav  19.706893  950.952805    18.402596  \n",
       "Nellesen_16_seg_00000025.wav  19.428010  951.258793    18.396676  \n",
       "Nellesen_16_seg_00000026.wav  19.246268  944.391313    18.530454  \n",
       "Nellesen_16_seg_00000027.wav  18.844493  981.003038    17.838885  \n",
       "Nellesen_16_seg_00000028.wav  19.086789  940.800825    18.601174  \n",
       "Nellesen_16_seg_00000029.wav  19.612675  889.979386    19.663377  \n",
       "Nellesen_16_seg_00000030.wav  19.874553  931.369167    18.789542  \n",
       "Nellesen_16_seg_00000031.wav  19.153963  944.704327    18.524314  \n",
       "Nellesen_16_seg_00000032.wav  20.291783  932.457133    18.767619  \n",
       "Nellesen_16_seg_00000033.wav  19.692120  943.802789    18.542009  \n",
       "Nellesen_16_seg_00000034.wav  20.383224  934.787537    18.720832  \n",
       "Nellesen_16_seg_00000035.wav  19.816893  940.667301    18.603815  \n",
       "Nellesen_16_seg_00000036.wav  19.514607  930.320240    18.810727  \n",
       "Nellesen_16_seg_00000037.wav  19.949074  938.851492    18.639796  \n",
       "Nellesen_16_seg_00000038.wav  19.752284  944.704855    18.524304  \n",
       "Nellesen_16_seg_00000039.wav  20.183754  922.083194    18.978765  \n",
       "Nellesen_16_seg_00000040.wav  19.537218  944.887140    18.520730  \n",
       "Nellesen_16_seg_00000041.wav  19.680567  940.121769    18.614610  \n",
       "Nellesen_16_seg_00000042.wav  19.125647  910.554879    19.219050  \n",
       "Nellesen_16_seg_00000043.wav  20.124778  952.355963    18.375482  \n",
       "Nellesen_16_seg_00000044.wav  18.663864  963.293442    18.166842  \n",
       "Nellesen_16_seg_00000045.wav  19.184266  939.882897    18.619341  \n",
       "\n",
       "[46 rows x 32 columns]"
      ]
     },
     "execution_count": 38,
     "metadata": {},
     "output_type": "execute_result"
    }
   ],
   "source": [
    "df_all.iloc[:,3:]"
   ]
  },
  {
   "cell_type": "markdown",
   "id": "01e0932a",
   "metadata": {},
   "source": [
    "Gibt alle Spaltennamen aus."
   ]
  },
  {
   "cell_type": "code",
   "execution_count": 39,
   "id": "45db0185",
   "metadata": {},
   "outputs": [
    {
     "name": "stdout",
     "output_type": "stream",
     "text": [
      "valence\n",
      "speaker\n",
      "sex\n",
      "duration\n",
      "meanF0Hz\n",
      "stdevF0Hz\n",
      "HNR\n",
      "localJitter\n",
      "localabsoluteJitter\n",
      "rapJitter\n",
      "ppq5Jitter\n",
      "ddpJitter\n",
      "localShimmer\n",
      "localdbShimmer\n",
      "apq3Shimmer\n",
      "apq5Shimmer\n",
      "apq11Shimmer\n",
      "ddaShimmer\n",
      "f1_mean\n",
      "f2_mean\n",
      "f3_mean\n",
      "f4_mean\n",
      "f1_median\n",
      "f2_median\n",
      "f3_median\n",
      "f4_median\n",
      "JitterPCA\n",
      "ShimmerPCA\n",
      "pF\n",
      "fdisp\n",
      "avgFormant\n",
      "mff\n",
      "fitch_vtl\n",
      "delta_f\n",
      "vtl_delta_f\n"
     ]
    }
   ],
   "source": [
    "for i, col in enumerate(df_all.iloc[:,0:].columns):\n",
    "    print(col)"
   ]
  },
  {
   "cell_type": "markdown",
   "id": "3b95a74e",
   "metadata": {},
   "source": [
    "Gibt für jede Spalte, ausser die ersten drei, einen (Box-)plot aus mit der Valence auf der X-Achse und der jeweiligen Spalte auf der Y-Achse aus."
   ]
  },
  {
   "cell_type": "code",
   "execution_count": 40,
   "id": "6c8fa2e7",
   "metadata": {},
   "outputs": [
    {
     "name": "stderr",
     "output_type": "stream",
     "text": [
      "c:\\users\\jannis\\seminarsprechstile\\venv\\lib\\site-packages\\pandas\\plotting\\_matplotlib\\tools.py:196: RuntimeWarning: More than 20 figures have been opened. Figures created through the pyplot interface (`matplotlib.pyplot.figure`) are retained until explicitly closed and may consume too much memory. (To control this warning, see the rcParam `figure.max_open_warning`).\n",
      "  fig = plt.figure(**fig_kw)\n"
     ]
    },
    {
     "data": {
      "text/plain": [
       "<Figure size 432x288 with 0 Axes>"
      ]
     },
     "metadata": {},
     "output_type": "display_data"
    },
    {
     "data": {
      "image/png": "[encoded data removed]",
      "text/plain": [
       "<Figure size 432x288 with 1 Axes>"
      ]
     },
     "metadata": {},
     "output_type": "display_data"
    },
    {
     "data": {
      "image/png": "[encoded data removed]",
      "text/plain": [
       "<Figure size 432x288 with 1 Axes>"
      ]
     },
     "metadata": {},
     "output_type": "display_data"
    },
    {
     "data": {
      "image/png": "[encoded data removed]",
      "text/plain": [
       "<Figure size 432x288 with 1 Axes>"
      ]
     },
     "metadata": {},
     "output_type": "display_data"
    },
    {
     "data": {
      "image/png": "[encoded data removed]",
      "text/plain": [
       "<Figure size 432x288 with 1 Axes>"
      ]
     },
     "metadata": {},
     "output_type": "display_data"
    },
    {
     "data": {
      "image/png": "[encoded data removed]",
      "text/plain": [
       "<Figure size 432x288 with 1 Axes>"
      ]
     },
     "metadata": {},
     "output_type": "display_data"
    },
    {
     "data": {
      "image/png": "[encoded data removed]",
      "text/plain": [
       "<Figure size 432x288 with 1 Axes>"
      ]
     },
     "metadata": {},
     "output_type": "display_data"
    },
    {
     "data": {
      "image/png": "[encoded data removed]",
      "text/plain": [
       "<Figure size 432x288 with 1 Axes>"
      ]
     },
     "metadata": {},
     "output_type": "display_data"
    },
    {
     "data": {
      "image/png": "[encoded data removed]",
      "text/plain": [
       "<Figure size 432x288 with 1 Axes>"
      ]
     },
     "metadata": {},
     "output_type": "display_data"
    },
    {
     "data": {
      "image/png": "[encoded data removed]",
      "text/plain": [
       "<Figure size 432x288 with 1 Axes>"
      ]
     },
     "metadata": {},
     "output_type": "display_data"
    },
    {
     "data": {
      "image/png": "[encoded data removed]",
      "text/plain": [
       "<Figure size 432x288 with 1 Axes>"
      ]
     },
     "metadata": {},
     "output_type": "display_data"
    },
    {
     "data": {
      "image/png": "[encoded data removed]",
      "text/plain": [
       "<Figure size 432x288 with 1 Axes>"
      ]
     },
     "metadata": {},
     "output_type": "display_data"
    },
    {
     "data": {
      "image/png": "[encoded data removed]",
      "text/plain": [
       "<Figure size 432x288 with 1 Axes>"
      ]
     },
     "metadata": {},
     "output_type": "display_data"
    },
    {
     "data": {
      "image/png": "[encoded data removed]",
      "text/plain": [
       "<Figure size 432x288 with 1 Axes>"
      ]
     },
     "metadata": {},
     "output_type": "display_data"
    },
    {
     "data": {
      "image/png": "[encoded data removed]",
      "text/plain": [
       "<Figure size 432x288 with 1 Axes>"
      ]
     },
     "metadata": {},
     "output_type": "display_data"
    },
    {
     "data": {
      "image/png": "[encoded data removed]",
      "text/plain": [
       "<Figure size 432x288 with 1 Axes>"
      ]
     },
     "metadata": {},
     "output_type": "display_data"
    },
    {
     "data": {
      "image/png": "[encoded data removed]",
      "text/plain": [
       "<Figure size 432x288 with 1 Axes>"
      ]
     },
     "metadata": {},
     "output_type": "display_data"
    },
    {
     "data": {
      "image/png": "[encoded data removed]",
      "text/plain": [
       "<Figure size 432x288 with 1 Axes>"
      ]
     },
     "metadata": {},
     "output_type": "display_data"
    },
    {
     "data": {
      "image/png": "[encoded data removed]",
      "text/plain": [
       "<Figure size 432x288 with 1 Axes>"
      ]
     },
     "metadata": {},
     "output_type": "display_data"
    },
    {
     "data": {
      "image/png": "[encoded data removed]",
      "text/plain": [
       "<Figure size 432x288 with 1 Axes>"
      ]
     },
     "metadata": {},
     "output_type": "display_data"
    },
    {
     "data": {
      "image/png": "[encoded data removed]",
      "text/plain": [
       "<Figure size 432x288 with 1 Axes>"
      ]
     },
     "metadata": {},
     "output_type": "display_data"
    },
    {
     "data": {
      "image/png": "[encoded data removed]",
      "text/plain": [
       "<Figure size 432x288 with 1 Axes>"
      ]
     },
     "metadata": {},
     "output_type": "display_data"
    },
    {
     "data": {
      "image/png": "[encoded data removed]",
      "text/plain": [
       "<Figure size 432x288 with 1 Axes>"
      ]
     },
     "metadata": {},
     "output_type": "display_data"
    },
    {
     "data": {
      "image/png": "[encoded data removed]",
      "text/plain": [
       "<Figure size 432x288 with 1 Axes>"
      ]
     },
     "metadata": {},
     "output_type": "display_data"
    },
    {
     "data": {
      "image/png": "[encoded data removed]",
      "text/plain": [
       "<Figure size 432x288 with 1 Axes>"
      ]
     },
     "metadata": {},
     "output_type": "display_data"
    },
    {
     "data": {
      "image/png": "[encoded data removed]",
      "text/plain": [
       "<Figure size 432x288 with 1 Axes>"
      ]
     },
     "metadata": {},
     "output_type": "display_data"
    },
    {
     "data": {
      "image/png": "[encoded data removed]",
      "text/plain": [
       "<Figure size 432x288 with 1 Axes>"
      ]
     },
     "metadata": {},
     "output_type": "display_data"
    },
    {
     "data": {
      "image/png": "[encoded data removed]",
      "text/plain": [
       "<Figure size 432x288 with 1 Axes>"
      ]
     },
     "metadata": {},
     "output_type": "display_data"
    },
    {
     "data": {
      "image/png": "[encoded data removed]",
      "text/plain": [
       "<Figure size 432x288 with 1 Axes>"
      ]
     },
     "metadata": {},
     "output_type": "display_data"
    },
    {
     "data": {
      "image/png": "[encoded data removed]",
      "text/plain": [
       "<Figure size 432x288 with 1 Axes>"
      ]
     },
     "metadata": {},
     "output_type": "display_data"
    },
    {
     "data": {
      "image/png": "[encoded data removed]",
      "text/plain": [
       "<Figure size 432x288 with 1 Axes>"
      ]
     },
     "metadata": {},
     "output_type": "display_data"
    },
    {
     "data": {
      "image/png": "[encoded data removed]",
      "text/plain": [
       "<Figure size 432x288 with 1 Axes>"
      ]
     },
     "metadata": {},
     "output_type": "display_data"
    },
    {
     "data": {
      "image/png": "[encoded data removed]",
      "text/plain": [
       "<Figure size 432x288 with 1 Axes>"
      ]
     },
     "metadata": {},
     "output_type": "display_data"
    }
   ],
   "source": [
    "for i, col in enumerate(df_all.iloc[:,3:].columns):\n",
    "    plt.tight_layout()\n",
    "    df_all.boxplot(by ='valence', column =col, grid = False)"
   ]
  },
  {
   "cell_type": "markdown",
   "id": "c3c5072a",
   "metadata": {},
   "source": [
    "Führt eine statistische Auswertung der Daten mittels Pearson Correlation Coefficent und p-wert durch.\n",
    "Somit kann prinzipiell errechnet werden, welcher der Werte die höchste Korrelation mit der Valence besitzt."
   ]
  },
  {
   "cell_type": "code",
   "execution_count": 41,
   "id": "90a9f0e9",
   "metadata": {},
   "outputs": [],
   "source": [
    "pearsons = []\n",
    "for i, col in enumerate(df_all.iloc[:,3:].columns):\n",
    "    if np.isnan(df_all[col]).any():\n",
    "        print('{} includes {} nan, I\\'ll insert mean values'.format(col, df_all[col].isna().sum()))\n",
    "        df_all[col] = df_all[col].fillna(df_all[col].mean())\n",
    "    r, p = pearsonr(df_all['valence'], df_all[col])\n",
    "    pearsons.append({'val':col, 'pcc': round(r, 3), 'p-val':round(p, 3)})\n"
   ]
  },
  {
   "cell_type": "code",
   "execution_count": 42,
   "id": "a71628f9",
   "metadata": {},
   "outputs": [
    {
     "data": {
      "text/plain": [
       "[{'val': 'meanF0Hz', 'pcc': 0.226, 'p-val': 0.13},\n",
       " {'val': 'f1_mean', 'pcc': 0.207, 'p-val': 0.167},\n",
       " {'val': 'duration', 'pcc': 0.147, 'p-val': 0.33},\n",
       " {'val': 'localJitter', 'pcc': 0.131, 'p-val': 0.387},\n",
       " {'val': 'rapJitter', 'pcc': 0.122, 'p-val': 0.419},\n",
       " {'val': 'ddpJitter', 'pcc': 0.122, 'p-val': 0.419},\n",
       " {'val': 'f1_median', 'pcc': 0.117, 'p-val': 0.438},\n",
       " {'val': 'ppq5Jitter', 'pcc': 0.116, 'p-val': 0.442},\n",
       " {'val': 'apq11Shimmer', 'pcc': 0.114, 'p-val': 0.45},\n",
       " {'val': 'vtl_delta_f', 'pcc': 0.101, 'p-val': 0.504},\n",
       " {'val': 'stdevF0Hz', 'pcc': 0.079, 'p-val': 0.604},\n",
       " {'val': 'HNR', 'pcc': 0.037, 'p-val': 0.805},\n",
       " {'val': 'fitch_vtl', 'pcc': 0.028, 'p-val': 0.854},\n",
       " {'val': 'localabsoluteJitter', 'pcc': 0.024, 'p-val': 0.873},\n",
       " {'val': 'f3_median', 'pcc': -0.005, 'p-val': 0.976},\n",
       " {'val': 'localShimmer', 'pcc': -0.006, 'p-val': 0.967},\n",
       " {'val': 'apq5Shimmer', 'pcc': -0.027, 'p-val': 0.86},\n",
       " {'val': 'localdbShimmer', 'pcc': -0.042, 'p-val': 0.783},\n",
       " {'val': 'JitterPCA', 'pcc': -0.044, 'p-val': 0.772},\n",
       " {'val': 'apq3Shimmer', 'pcc': -0.05, 'p-val': 0.74},\n",
       " {'val': 'ddaShimmer', 'pcc': -0.05, 'p-val': 0.74},\n",
       " {'val': 'f3_mean', 'pcc': -0.054, 'p-val': 0.72},\n",
       " {'val': 'mff', 'pcc': -0.056, 'p-val': 0.712},\n",
       " {'val': 'f4_median', 'pcc': -0.062, 'p-val': 0.683},\n",
       " {'val': 'f4_mean', 'pcc': -0.071, 'p-val': 0.64},\n",
       " {'val': 'pF', 'pcc': -0.079, 'p-val': 0.602},\n",
       " {'val': 'fdisp', 'pcc': -0.089, 'p-val': 0.557},\n",
       " {'val': 'ShimmerPCA', 'pcc': -0.093, 'p-val': 0.54},\n",
       " {'val': 'delta_f', 'pcc': -0.109, 'p-val': 0.473},\n",
       " {'val': 'avgFormant', 'pcc': -0.132, 'p-val': 0.381},\n",
       " {'val': 'f2_median', 'pcc': -0.213, 'p-val': 0.156},\n",
       " {'val': 'f2_mean', 'pcc': -0.229, 'p-val': 0.125}]"
      ]
     },
     "execution_count": 42,
     "metadata": {},
     "output_type": "execute_result"
    }
   ],
   "source": [
    "sorted(pearsons, key=lambda x: -x['pcc'])"
   ]
  }
 ],
 "metadata": {
  "kernelspec": {
   "display_name": "Python 3",
   "language": "python",
   "name": "python3"
  },
  "language_info": {
   "codemirror_mode": {
    "name": "ipython",
    "version": 3
   },
   "file_extension": ".py",
   "mimetype": "text/x-python",
   "name": "python",
   "nbconvert_exporter": "python",
   "pygments_lexer": "ipython3",
   "version": "3.9.6"
  }
 },
 "nbformat": 4,
 "nbformat_minor": 5
}
